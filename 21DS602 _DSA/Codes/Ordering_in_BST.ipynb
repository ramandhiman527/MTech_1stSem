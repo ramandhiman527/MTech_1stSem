{
  "nbformat": 4,
  "nbformat_minor": 0,
  "metadata": {
    "colab": {
      "provenance": []
    },
    "kernelspec": {
      "name": "python3",
      "display_name": "Python 3"
    },
    "language_info": {
      "name": "python"
    }
  },
  "cells": [
    {
      "cell_type": "markdown",
      "source": [
        "## **Preorder Traversal Algorithm**\n",
        "\n",
        "                *Root,  Left,  Right*\n",
        "\n",
        "*   Start.\n",
        "*   If the root is empty, return.\n",
        "*   Traverse the root node. //print value at node\n",
        "*   Traverse left subtree of the root.// preorder(root.leftChild)\n",
        "*   Traverse the right subtree of the root.// preorder(root.rightChild)\n",
        "*   End."
      ],
      "metadata": {
        "id": "_h515F5_-qyP"
      }
    },
    {
      "cell_type": "code",
      "execution_count": 1,
      "metadata": {
        "id": "u5DnR4DP6-sx"
      },
      "outputs": [],
      "source": [
        "class BinaryTreeNode:\n",
        "  def __init__(self, data):\n",
        "    self.data = data\n",
        "    self.leftChild = None\n",
        "    self.rightChild=None\n",
        "     "
      ]
    },
    {
      "cell_type": "code",
      "source": [
        "def insert(root,newValue):\n",
        "\n",
        "    #if binary search tree is empty, make a new node and declare it as root\n",
        "    if root is None:\n",
        "        root=BinaryTreeNode(newValue)\n",
        "        return root\n",
        "\n",
        "    #if newValue is less than value of data in root, add it to left subtree and proceed recursively\n",
        "    if newValue<root.data:\n",
        "        root.leftChild=insert(root.leftChild,newValue)\n",
        "    else:\n",
        "        #if newValue is greater than value of data in root, add it to right subtree and proceed recursively\n",
        "        root.rightChild=insert(root.rightChild,newValue)\n",
        "    return root"
      ],
      "metadata": {
        "id": "cN_u8Kj9-Qwm"
      },
      "execution_count": 3,
      "outputs": []
    },
    {
      "cell_type": "code",
      "source": [
        "def preorder(root):\n",
        "    #if root is None return\n",
        "        if root==None:\n",
        "            return\n",
        "\n",
        "        #traverse root\n",
        "        print(root.data)\n",
        "\n",
        "        #traverse left subtree\n",
        "        preorder(root.leftChild)\n",
        "        \n",
        "        #traverse right subtree\n",
        "        preorder(root.rightChild)   \n"
      ],
      "metadata": {
        "id": "gZMzCmUl9uxY"
      },
      "execution_count": 4,
      "outputs": []
    },
    {
      "cell_type": "code",
      "source": [
        "root= insert(None,15)\n",
        "insert(root,10)\n",
        "insert(root,25)\n",
        "insert(root,6)\n",
        "insert(root,14)\n",
        "insert(root,20)\n",
        "insert(root,60)\n",
        "print(\"Printing values of binary tree in preorder Traversal.\")\n",
        "preorder(root)"
      ],
      "metadata": {
        "colab": {
          "base_uri": "https://localhost:8080/"
        },
        "id": "GeDLnjTo9yNC",
        "outputId": "060ab31b-8f73-4d1c-fdcd-034cb326adb6"
      },
      "execution_count": 6,
      "outputs": [
        {
          "output_type": "stream",
          "name": "stdout",
          "text": [
            "Printing values of binary tree in preorder Traversal.\n",
            "15\n",
            "10\n",
            "6\n",
            "14\n",
            "25\n",
            "20\n",
            "60\n",
            "None\n"
          ]
        }
      ]
    },
    {
      "cell_type": "markdown",
      "source": [
        "## **Inorder Tree Traversal Algorithm**\n",
        "\n",
        "                  *Left,  Root,  Right*\n",
        "\n",
        "Start.\n",
        "1. If root is empty, return.\n",
        "2. Traverse left subtree of the root.   // inorder(root.leftChild)\n",
        "3. Traverse the root node.   //print value at node\n",
        "4. Traverse the right subtree of the root.  // inorder(root.rightChild)\n",
        "End."
      ],
      "metadata": {
        "id": "1oKXiv5b_diA"
      }
    },
    {
      "cell_type": "code",
      "source": [
        "def inorder(root):\n",
        "\n",
        "        #if root is None,return\n",
        "        if root==None:\n",
        "            return\n",
        "\n",
        "        #traverse left subtree\n",
        "        inorder(root.leftChild)\n",
        "\n",
        "        #traverse current node\n",
        "        print(root.data)\n",
        "        \n",
        "        #traverse right subtree\n",
        "        inorder(root.rightChild)"
      ],
      "metadata": {
        "id": "X4WXwwue_lQX"
      },
      "execution_count": 7,
      "outputs": []
    },
    {
      "cell_type": "code",
      "source": [
        "root= insert(None,15)\n",
        "insert(root,10)\n",
        "insert(root,25)\n",
        "insert(root,6)\n",
        "insert(root,14)\n",
        "insert(root,20)\n",
        "insert(root,60)\n",
        "print(\"Printing values of binary search tree in Inorder Traversal.\")\n",
        "inorder(root)"
      ],
      "metadata": {
        "colab": {
          "base_uri": "https://localhost:8080/"
        },
        "id": "b5rNvNxL_3Vu",
        "outputId": "279d5add-2b0a-4ddb-f1b2-896193c9bbeb"
      },
      "execution_count": 8,
      "outputs": [
        {
          "output_type": "stream",
          "name": "stdout",
          "text": [
            "Printing values of binary search tree in Inorder Traversal.\n",
            "6\n",
            "10\n",
            "14\n",
            "15\n",
            "20\n",
            "25\n",
            "60\n"
          ]
        }
      ]
    },
    {
      "cell_type": "markdown",
      "source": [
        "## **Postorder Traversal Algorithm**\n",
        "\n",
        "                Left , Right, Root"
      ],
      "metadata": {
        "id": "DaPsb5w6ACk4"
      }
    },
    {
      "cell_type": "code",
      "source": [
        "def postorder(root):\n",
        "\n",
        "    #if root is None return\n",
        "        if root==None:\n",
        "            return\n",
        "\n",
        "        #traverse left subtree\n",
        "        postorder(root.leftChild)\n",
        "\n",
        "        #traverse right subtree\n",
        "        postorder(root.rightChild)  \n",
        "        \n",
        "        #traverse root\n",
        "        print(root.data)                 \n"
      ],
      "metadata": {
        "id": "tUbaTewhAKy-"
      },
      "execution_count": 10,
      "outputs": []
    },
    {
      "cell_type": "code",
      "source": [
        "root= insert(None,15)\n",
        "insert(root,10)\n",
        "insert(root,25)\n",
        "insert(root,6)\n",
        "insert(root,14)\n",
        "insert(root,20)\n",
        "insert(root,60)\n",
        "print(\"Printing values of binary tree in postorder Traversal.\")\n",
        "postorder(root)"
      ],
      "metadata": {
        "colab": {
          "base_uri": "https://localhost:8080/"
        },
        "id": "d97sa7ePAucd",
        "outputId": "5983aa59-90e0-4ad3-ea9e-9758b75407d5"
      },
      "execution_count": 11,
      "outputs": [
        {
          "output_type": "stream",
          "name": "stdout",
          "text": [
            "Printing values of binary tree in postorder Traversal.\n",
            "6\n",
            "14\n",
            "10\n",
            "20\n",
            "60\n",
            "25\n",
            "15\n"
          ]
        }
      ]
    },
    {
      "cell_type": "code",
      "source": [],
      "metadata": {
        "id": "IZC9OK7xAzZR"
      },
      "execution_count": null,
      "outputs": []
    }
  ]
}