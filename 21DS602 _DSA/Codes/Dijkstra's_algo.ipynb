{
  "nbformat": 4,
  "nbformat_minor": 0,
  "metadata": {
    "colab": {
      "provenance": []
    },
    "kernelspec": {
      "name": "python3",
      "display_name": "Python 3"
    },
    "language_info": {
      "name": "python"
    }
  },
  "cells": [
    {
      "cell_type": "code",
      "execution_count": 1,
      "metadata": {
        "id": "bNPJIhe2Izj3"
      },
      "outputs": [],
      "source": [
        "from queue import PriorityQueue\n",
        "\n",
        "# To sort and keep track of the vertices we haven't visited yet - we'll use a PriorityQueue"
      ]
    },
    {
      "cell_type": "code",
      "source": [
        "class Graph:\n",
        "    def __init__(self, num_of_vertices):\n",
        "        self.v = num_of_vertices\n",
        "        self.edges = [[-1 for i in range(num_of_vertices)] for j in range(num_of_vertices)]\n",
        "        self.visited = []\n",
        "\n",
        "        # let's define a function which is going to add an edge to a graph\n",
        "\n",
        "    def add_edge(self, u, v, weight):\n",
        "        self.edges[u][v] = weight\n",
        "        self.edges[v][u] = weight\n",
        "\n",
        "\n",
        "      \"\"\"\n",
        "      We'll implement a constructor for a class called Graph\"\"\"\n",
        "      \"\"\"\n",
        "      v: Represents the number of vertices in the graph.\n",
        "      edges: Represents the list of edges in the form of a matrix. For nodes u and v, self.edges[u][v] = weight of the edge.\n",
        "      visited: A set which will contain the visited vertices\n",
        "      \"\"\"\n",
        "\n"
      ],
      "metadata": {
        "id": "P_hK2NcYI5Yg"
      },
      "execution_count": 7,
      "outputs": []
    },
    {
      "cell_type": "code",
      "source": [
        "\"\"\"We first created a list D of the size v. \n",
        "We set the value of the start vertex to 0, since that is its distance from itself. \n",
        "Then, we initialize a priority queue, which we will use to quickly sort the vertices from the least to most distant.\n",
        "We put the start vertex in the priority queue. Now, for each vertex in the priority queue, we will first mark them as visited,\n",
        "and then we will iterate through their neighbors.\n",
        "\"\"\"\n",
        "\n",
        "\"\"\"\n",
        "If the neighbor is not visited, we will compare its old cost and its new cost. The old cost is the current value \n",
        "of the shortest path from the start vertex to the neighbor, while the new cost is the value of the\n",
        "sum of the shortest path from the start vertex to the current vertex and the distance between the current vertex and the neighbor.\n",
        "If the new cost is lower than the old cost, we put the neighbor and its cost to the priority queue,\n",
        "and update the list where we keep the shortest paths accordingly.\n",
        "\"\"\"\n",
        "\"\"\"\n",
        "Finally, after all of the vertices are visited and the priority queue is empty, we return the list D.\n",
        "\"\"\"\n",
        "def dijkstra(graph, start_vertex):\n",
        "    D = {v:float('inf') for v in range(graph.v)}\n",
        "    D[start_vertex] = 0\n",
        "\n",
        "    pq = PriorityQueue()\n",
        "    pq.put((0, start_vertex))\n",
        "\n",
        "    while not pq.empty():\n",
        "        (dist, current_vertex) = pq.get()\n",
        "        graph.visited.append(current_vertex)\n",
        "\n",
        "        for neighbor in range(graph.v):\n",
        "            if graph.edges[current_vertex][neighbor] != -1:\n",
        "                distance = graph.edges[current_vertex][neighbor]\n",
        "                if neighbor not in graph.visited:\n",
        "                    old_cost = D[neighbor]\n",
        "                    new_cost = D[current_vertex] + distance\n",
        "                    if new_cost < old_cost:\n",
        "                        pq.put((new_cost, neighbor))\n",
        "                        D[neighbor] = new_cost\n",
        "    return D"
      ],
      "metadata": {
        "id": "2EgncrY8JDua"
      },
      "execution_count": 4,
      "outputs": []
    },
    {
      "cell_type": "code",
      "source": [
        "g = Graph(9)\n",
        "g.add_edge(0, 1, 4)\n",
        "g.add_edge(0, 6, 7)\n",
        "g.add_edge(1, 6, 11)\n",
        "g.add_edge(1, 7, 20)\n",
        "g.add_edge(1, 2, 9)\n",
        "g.add_edge(2, 3, 6)\n",
        "g.add_edge(2, 4, 2)\n",
        "g.add_edge(3, 4, 10)\n",
        "g.add_edge(3, 5, 5)\n",
        "g.add_edge(4, 5, 15)\n",
        "g.add_edge(4, 7, 1)\n",
        "g.add_edge(4, 8, 5)\n",
        "g.add_edge(5, 8, 12)\n",
        "g.add_edge(6, 7, 1)\n",
        "g.add_edge(7, 8, 3) "
      ],
      "metadata": {
        "id": "8mDOoHh8JGdY"
      },
      "execution_count": 8,
      "outputs": []
    },
    {
      "cell_type": "code",
      "source": [
        "D = dijkstra(g, 0)\n",
        "\n",
        "print(D)"
      ],
      "metadata": {
        "colab": {
          "base_uri": "https://localhost:8080/"
        },
        "id": "t8x77n9-JKg5",
        "outputId": "96e89471-9aa2-4dbd-d2ac-ac48780842f0"
      },
      "execution_count": 9,
      "outputs": [
        {
          "output_type": "stream",
          "name": "stdout",
          "text": [
            "{0: 0, 1: 4, 2: 11, 3: 17, 4: 9, 5: 22, 6: 7, 7: 8, 8: 11}\n"
          ]
        }
      ]
    },
    {
      "cell_type": "code",
      "source": [
        "for vertex in range(len(D)):\n",
        "    print(\"Distance from vertex 0 to vertex\", vertex, \"is\", D[vertex])"
      ],
      "metadata": {
        "colab": {
          "base_uri": "https://localhost:8080/"
        },
        "id": "PZJ3e0ijJuDr",
        "outputId": "fcfeaefc-20e2-449f-c411-0905e1193c87"
      },
      "execution_count": 10,
      "outputs": [
        {
          "output_type": "stream",
          "name": "stdout",
          "text": [
            "Distance from vertex 0 to vertex 0 is 0\n",
            "Distance from vertex 0 to vertex 1 is 4\n",
            "Distance from vertex 0 to vertex 2 is 11\n",
            "Distance from vertex 0 to vertex 3 is 17\n",
            "Distance from vertex 0 to vertex 4 is 9\n",
            "Distance from vertex 0 to vertex 5 is 22\n",
            "Distance from vertex 0 to vertex 6 is 7\n",
            "Distance from vertex 0 to vertex 7 is 8\n",
            "Distance from vertex 0 to vertex 8 is 11\n"
          ]
        }
      ]
    },
    {
      "cell_type": "code",
      "source": [],
      "metadata": {
        "id": "GB7aICeiJyk5"
      },
      "execution_count": null,
      "outputs": []
    }
  ]
}