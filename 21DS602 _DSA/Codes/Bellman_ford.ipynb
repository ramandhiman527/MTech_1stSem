{
  "nbformat": 4,
  "nbformat_minor": 0,
  "metadata": {
    "colab": {
      "provenance": []
    },
    "kernelspec": {
      "name": "python3",
      "display_name": "Python 3"
    },
    "language_info": {
      "name": "python"
    }
  },
  "cells": [
    {
      "cell_type": "code",
      "source": [
        "\"\"\"\n",
        "1) Initializing the source vertex with distance to itself as 0 and all other vertices as infinity. Creating the array with size N\n",
        "\n",
        "2) Calculate the shortest distance from the source vertex. Following this process for N-1 times where N is the number of vertices in the graph\n",
        "\n",
        "      For relaxing the path lengths for the vertices for each edge m-n:\n",
        "\n",
        "      if distance[n] > distance[m] + weight of edge mn, then\n",
        "\n",
        "      distance[n] = distance[m] + weight of edge mn\n",
        "\n",
        "3) Even after minimizing the path lengths for each vertex after N-1 times, if we can still relax the path length \n",
        "\n",
        "   where distance[n] > distance[m] + weight of edge mn then we can say that the graph contains the negative edge cycle.\n",
        "\n",
        "Therefore, the only limitation of the bellman ford algorithm is that it does not work with a graph having a negative edge cycle. \n",
        "\"\"\""
      ],
      "metadata": {
        "id": "8YVh0RoZkDjg"
      },
      "execution_count": null,
      "outputs": []
    },
    {
      "cell_type": "code",
      "source": [
        "class Graph:\n",
        "\n",
        "    def __init__(self, vertices):\n",
        "        self.M = vertices   # Total number of vertices in the graph\n",
        "        self.graph = []     # Array of edges\n",
        "\n",
        "    # Add edges\n",
        "\n",
        "    def add_edge(self, a, b, c):\n",
        "        self.graph.append([a, b, c])\n",
        "\n",
        "    # Print the solution\n",
        "\n",
        "    def print_solution(self, distance):\n",
        "        print(\"Vertex Distance from Source\")\n",
        "        for k in range(self.M):\n",
        "            print(\"{0}\\t\\t{1}\".format(k, distance[k]))"
      ],
      "metadata": {
        "id": "DR6y9mHtUae_"
      },
      "execution_count": 15,
      "outputs": []
    },
    {
      "cell_type": "code",
      "source": [
        "    def bellman_ford(self, src):\n",
        "\n",
        "        distance = [float(\"Inf\")] * self.M\n",
        "        distance[src] = 0\n",
        "\n",
        "        for _ in range(self.M - 1):\n",
        "            for a, b, c in self.graph:\n",
        "                if distance[a] != float(\"Inf\") and distance[a] + c < distance[b]:\n",
        "                    distance[b] = distance[a] + c\n",
        "\n",
        "        # After N-1 iterations, we find our new path lengths and we can check if the graph has a negative cycle or not.\n",
        "        \n",
        "        for a, b, c in self.graph:\n",
        "            if distance[a] != float(\"Inf\") and distance[a] + c < distance[b]:\n",
        "                print(\"Graph contains negative weight cycle\")\n",
        "                return\n",
        "\n",
        "        self.print_solution(distance)"
      ],
      "metadata": {
        "id": "1UaCtz6LeHpR"
      },
      "execution_count": 16,
      "outputs": []
    },
    {
      "cell_type": "code",
      "source": [
        "g = Graph(5)\n",
        "g.add_edge(0, 1, 2)\n",
        "g.add_edge(0, 2, 4)\n",
        "g.add_edge(1, 3, 2)\n",
        "g.add_edge(2, 4, 3)\n",
        "g.add_edge(2, 3, 4)\n",
        "g.add_edge(4, 3, -5)"
      ],
      "metadata": {
        "id": "D0D1Vixserlr"
      },
      "execution_count": 18,
      "outputs": []
    },
    {
      "cell_type": "code",
      "source": [
        "distance = bellman_ford(g, 0)\n",
        "\n",
        "print(distance)"
      ],
      "metadata": {
        "colab": {
          "base_uri": "https://localhost:8080/"
        },
        "id": "_EZGCRg9fJCJ",
        "outputId": "a53f047b-b7e1-40d4-bc86-b624ac736606"
      },
      "execution_count": 24,
      "outputs": [
        {
          "output_type": "stream",
          "name": "stdout",
          "text": [
            "Vertex Distance from Source\n",
            "0\t\t0\n",
            "1\t\t2\n",
            "2\t\t4\n",
            "3\t\t2\n",
            "4\t\t7\n",
            "None\n"
          ]
        }
      ]
    },
    {
      "cell_type": "code",
      "source": [],
      "metadata": {
        "id": "J7Ie2LrEfC5F"
      },
      "execution_count": null,
      "outputs": []
    }
  ]
}