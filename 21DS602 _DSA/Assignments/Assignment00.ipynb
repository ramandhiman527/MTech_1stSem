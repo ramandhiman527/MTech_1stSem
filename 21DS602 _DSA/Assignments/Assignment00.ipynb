{
  "nbformat": 4,
  "nbformat_minor": 0,
  "metadata": {
    "colab": {
      "provenance": [],
      "collapsed_sections": []
    },
    "kernelspec": {
      "name": "python3",
      "display_name": "Python 3"
    },
    "language_info": {
      "name": "python"
    }
  },
  "cells": [
    {
      "cell_type": "code",
      "execution_count": null,
      "metadata": {
        "colab": {
          "base_uri": "https://localhost:8080/"
        },
        "id": "ar8o7bSyFZ0j",
        "outputId": "6ccbe00c-d67d-427c-a0c3-39da965261fe"
      },
      "outputs": [
        {
          "output_type": "stream",
          "name": "stdout",
          "text": [
            "04\n"
          ]
        }
      ],
      "source": [
        "import time\n",
        "import datetime\n",
        "x = datetime.datetime.now()\n",
        "print(x.strftime(\"%d\"))\n"
      ]
    },
    {
      "cell_type": "code",
      "source": [
        "import time\n",
        "import datetime\n",
        "x = datetime.datetime.now()\n",
        "print(x.strftime(\"%s\"))"
      ],
      "metadata": {
        "colab": {
          "base_uri": "https://localhost:8080/"
        },
        "id": "t-q0eeZsFa1P",
        "outputId": "122bacfc-8c0b-4c0e-9942-5b9bd706ce49"
      },
      "execution_count": null,
      "outputs": [
        {
          "output_type": "stream",
          "name": "stdout",
          "text": [
            "1664871948\n"
          ]
        }
      ]
    },
    {
      "cell_type": "code",
      "source": [
        "import time\n",
        "import datetime\n",
        "x = datetime.datetime.now()\n",
        "print(x.strftime(\"%f\"))"
      ],
      "metadata": {
        "colab": {
          "base_uri": "https://localhost:8080/"
        },
        "id": "x2kf6v5qGcx2",
        "outputId": "e07e285b-b924-4257-8602-76e4e19adc66"
      },
      "execution_count": null,
      "outputs": [
        {
          "output_type": "stream",
          "name": "stdout",
          "text": [
            "620940\n"
          ]
        }
      ]
    },
    {
      "cell_type": "code",
      "source": [
        "import time\n",
        "import datetime\n",
        "x = datetime.datetime.now()\n",
        "print(x.strftime(\"%c\"))"
      ],
      "metadata": {
        "colab": {
          "base_uri": "https://localhost:8080/"
        },
        "id": "Yk9L3j0PGfxZ",
        "outputId": "e427e019-554b-452e-bee3-01230c0a75cc"
      },
      "execution_count": null,
      "outputs": [
        {
          "output_type": "stream",
          "name": "stdout",
          "text": [
            "Tue Oct  4 08:26:25 2022\n"
          ]
        }
      ]
    },
    {
      "cell_type": "code",
      "source": [
        "\n",
        "\n",
        "pi=3.14\n",
        "s= \"Venkata\"\n",
        "v= \"Subhramanyam\"\n",
        "print(\"the value of s is:\",s)\n",
        "print(\"the value of v is:\",v)\n",
        "string_add = s+v\n",
        "print(\"after concatenating s and v the string is:\",s+v)\n",
        "text = 'The value of pi is ' + str(pi)\n",
        "print(\"NOTE: variables after '+' operator must be converted to string before using them as strings\\n otherwise value will be considered as its class type\")\n",
        "print(text)\n"
      ],
      "metadata": {
        "colab": {
          "base_uri": "https://localhost:8080/"
        },
        "id": "5eyt4CYaH3Wg",
        "outputId": "e18c2087-138c-4c37-fc38-a7b5ba6c14a6"
      },
      "execution_count": null,
      "outputs": [
        {
          "output_type": "stream",
          "name": "stdout",
          "text": [
            "the value of s is: Venkata\n",
            "the value of v is: Subhramanyam\n",
            "after concatenating s and v the string is: VenkataSubhramanyam\n",
            "NOTE: variables after '+' operator must be converted to string before using them as strings\n",
            " otherwise value will be considered as its class type\n",
            "The value of pi is 3.14\n"
          ]
        }
      ]
    },
    {
      "cell_type": "code",
      "source": [
        "while(1):\n",
        "  print(\"1. CELSIUS TO FAHRENHEIT \\n2. FAHRENHEIT TO CELSIUS \\n3. EXIT\\n\")\n",
        "  choice = input(\"ENTER YOUR CHOICE:\")\n",
        "  ch = int(choice)\n",
        "\n",
        "  if(ch == 1):\n",
        "    c = int(input(\"ENTER TEMPERATURE IN CELSIUS:\"))\n",
        "    f = ((9*c)/5)+32\n",
        "    print(\"converted temperature is:\",f)\n",
        "\n",
        "  elif(ch == 2):\n",
        "      f = int(input(\"ENTER TEMPERATURE IN FAHRENHEIT:\"))\n",
        "      c = ((f-32)/9)*5\n",
        "      print(\"converted temperature is:\",c)\n",
        "      \n",
        "  elif(ch == 3):\n",
        "        exit()\n",
        "  else:\n",
        "    print(\"wrong choice\") "
      ],
      "metadata": {
        "id": "iAvw0a-Enojb"
      },
      "execution_count": null,
      "outputs": []
    },
    {
      "cell_type": "code",
      "source": [
        "# Assignment 1\n",
        "\n",
        "for i in range(2):\n",
        "  choice =input(\"Enter Your Name: \")\n",
        "  A =int(input(\"Bill ID: \"))\n",
        "  B =int(input(\"Customer ID: \"))\n",
        "  C =float(input(\"Bill Amount: Rs. \"))\n",
        "  print(\"-----------------------\")"
      ],
      "metadata": {
        "colab": {
          "base_uri": "https://localhost:8080/"
        },
        "id": "cZw8Qk6jKEKT",
        "outputId": "66577279-1e74-4b83-d6ba-3968fbbe080c"
      },
      "execution_count": null,
      "outputs": [
        {
          "output_type": "stream",
          "name": "stdout",
          "text": [
            "Enter Your Name: 1\n",
            "Bill ID: 1001\n",
            "Customer ID: 101\n",
            "Bill Amount: Rs. 199\n",
            "-----------------------\n",
            "Enter Your Name: B\n",
            "Bill ID: 1002\n",
            "Customer ID: 102\n",
            "Bill Amount: Rs. 198\n",
            "-----------------------\n"
          ]
        }
      ]
    },
    {
      "cell_type": "code",
      "source": [
        "# Assignment 2.a\n",
        "\n",
        "x = int(input())\n",
        "x_1 = x + 100\n",
        "print(x_1)\n",
        "\n",
        "y = float(input())\n",
        "y_1 = y + 22.45\n",
        "print(y_1)\n",
        "\n",
        "z = str(input())\n",
        "a = str(input())\n",
        "z_1 = z + a\n",
        "print(z_1)"
      ],
      "metadata": {
        "colab": {
          "base_uri": "https://localhost:8080/"
        },
        "id": "oEPzfgK4N-Ug",
        "outputId": "afc9910a-f7a7-4f2c-ce8d-4285181138f6"
      },
      "execution_count": null,
      "outputs": [
        {
          "output_type": "stream",
          "name": "stdout",
          "text": [
            "20\n",
            "120\n",
            "45.45\n",
            "67.9\n",
            "raman\n",
            "kumar\n",
            "ramankumar\n"
          ]
        }
      ]
    },
    {
      "cell_type": "code",
      "source": [
        "# Assignment 2.b\n",
        "\n",
        "int_a = 10\n",
        "raw_input = int(input(\"Enter a number : \"))\n",
        "print(\"Type of int_a:\", type(int_a))\n",
        "print(\"Type of raw_input:\", type(raw_input))\n",
        "print(int_a + raw_input)"
      ],
      "metadata": {
        "colab": {
          "base_uri": "https://localhost:8080/"
        },
        "id": "gveMzVFAU7Wb",
        "outputId": "4c8ff8a2-27d3-4693-e557-47ba6625947b"
      },
      "execution_count": null,
      "outputs": [
        {
          "output_type": "stream",
          "name": "stdout",
          "text": [
            "Enter a number : 20\n",
            "Type of int_a: <class 'int'>\n",
            "Type of raw_input: <class 'int'>\n",
            "30\n"
          ]
        }
      ]
    },
    {
      "cell_type": "code",
      "source": [
        "# Assignment 2.c\n",
        "\n",
        "print(\"value of e is %0.1f\", 2.713)\n",
        "print(\"Value of e is %0.2f\" %2.713)\n",
        "print(\"Programming in python: Version %d\" %3.5)\n",
        "print(\"%20s : %d\" %(\"Python 3.0 is also known as Python\", 3000.57))\n",
        "x = 2\n",
        "print(\"{0:2d}{1:3d}{2:4d}\".format(x, x*x, x*x*x))"
      ],
      "metadata": {
        "colab": {
          "base_uri": "https://localhost:8080/"
        },
        "id": "DCPZUClNZiwj",
        "outputId": "ad3f6b94-a033-4841-d329-946298d09d65"
      },
      "execution_count": null,
      "outputs": [
        {
          "output_type": "stream",
          "name": "stdout",
          "text": [
            "value of e is %0.1f 2.713\n",
            "Value of e is 2.71\n",
            "Programming in python: Version 3\n",
            "Python 3.0 is also known as Python : 3000\n",
            " 2  4   8\n"
          ]
        }
      ]
    },
    {
      "cell_type": "code",
      "source": [
        "# Assignment 2.d\n",
        "\n",
        "x = int(input(\"No of hours worked in a week : \"))\n",
        "y = int(input(\" Pay Rate per hour : \"))\n",
        "z = int(input(\"No. of weeks in a month : \"))\n",
        "Monthly_pay = x * y * z\n",
        "print(\"Monthly Pay of Employee : \", Monthly_pay)"
      ],
      "metadata": {
        "colab": {
          "base_uri": "https://localhost:8080/"
        },
        "id": "y9aAcXPdd88d",
        "outputId": "e0f733dd-0f11-4527-90ff-204e59d6370d"
      },
      "execution_count": null,
      "outputs": [
        {
          "output_type": "stream",
          "name": "stdout",
          "text": [
            "No of hours worked in a week : 10\n",
            " Pay Rate per hour : 20\n",
            "No. of weeks in a month : 40\n",
            "Monthly Pay of Employee :  8000\n"
          ]
        }
      ]
    },
    {
      "cell_type": "code",
      "source": [
        "# Assignment 2.e\n",
        "\n",
        "num = 16\n",
        "num1 = num/6\n",
        "num2 = num//6\n",
        "num3 = num//6.0\n",
        "print(num1)\n",
        "print(num2);\n",
        "print(num3)"
      ],
      "metadata": {
        "colab": {
          "base_uri": "https://localhost:8080/"
        },
        "id": "OQi-d6CwlPfO",
        "outputId": "47dda5d7-d18c-437a-e562-9c3c09728ffb"
      },
      "execution_count": null,
      "outputs": [
        {
          "output_type": "stream",
          "name": "stdout",
          "text": [
            "2.6666666666666665\n",
            "2\n",
            "2.0\n"
          ]
        }
      ]
    },
    {
      "cell_type": "code",
      "source": [
        "# Assignment 2.f\n",
        "\n",
        "obj_x = 10\n",
        "obj_y = obj_x\n",
        "\n",
        "if (id(obj_x) == id(obj_y)):\n",
        "  print(\"Address of obj_x and obj_y is same\")\n",
        "else:\n",
        "  print(\"Address of obj_x and obj_y is not same\")"
      ],
      "metadata": {
        "colab": {
          "base_uri": "https://localhost:8080/"
        },
        "id": "2pAplxVqnV91",
        "outputId": "4844b46d-eeae-4c34-97b6-5bcfe512893f"
      },
      "execution_count": null,
      "outputs": [
        {
          "output_type": "stream",
          "name": "stdout",
          "text": [
            "Address of obj_x and obj_y is same\n"
          ]
        }
      ]
    },
    {
      "cell_type": "code",
      "source": [
        "# Assignment 2.g\n",
        "\n",
        "obj_x = 10\n",
        "obj_y = obj_x\n",
        "obj_y = obj_x + 1\n",
        "if (obj_x is not obj_y):\n",
        "  print(\"obj_x and obj_y do not have same identity\")\n",
        "else:\n",
        "  print(\"obj_x and obj_y have same identity\")"
      ],
      "metadata": {
        "colab": {
          "base_uri": "https://localhost:8080/"
        },
        "id": "OUktKb-vova-",
        "outputId": "7d5166a2-39e3-4055-84ac-5c44c84432b4"
      },
      "execution_count": null,
      "outputs": [
        {
          "output_type": "stream",
          "name": "stdout",
          "text": [
            "obj_x and obj_y do not have same identity\n"
          ]
        }
      ]
    },
    {
      "cell_type": "code",
      "source": [
        "# Assignment 3\n",
        "\n",
        "for i in range(3):\n",
        "  Bill_amount = float(input(\"Enter The Amount : \"))\n",
        "\n",
        "  if (Bill_amount >= 1000):\n",
        "    print(\"Total discount availed : 5%\")\n",
        "    Bill_amount = Bill_amount * (19 / 20)\n",
        "    print(\"The Bill amount after discount : \", Bill_amount)\n",
        "  elif (Bill_amount >= 500 ):\n",
        "    if (Bill_amount < 1000):\n",
        "      print(\"Total discount availed : 2%\")\n",
        "      Bill_amount = Bill_amount * (49 / 50)\n",
        "      print(\"The Bill amount after discount : \", Bill_amount)\n",
        "  elif (Bill_amount > 0):\n",
        "    if Bill_amount < 500:\n",
        "      print(\"Total discount availed : 1%\")\n",
        "      Bill_amount = Bill_amount * (99 / 100)\n",
        "      print(\"The Bill amount after discount : \", Bill_amount)\n",
        "  else:\n",
        "    print(\"Discount not applicable.\")\n"
      ],
      "metadata": {
        "id": "KuLLk-akq9Ce",
        "colab": {
          "base_uri": "https://localhost:8080/"
        },
        "outputId": "13a06b65-9617-4464-f9ac-151cbf43d7df"
      },
      "execution_count": 32,
      "outputs": [
        {
          "output_type": "stream",
          "name": "stdout",
          "text": [
            "Enter The Amount : 1234\n",
            "Total discount availed : 5%\n",
            "The Bill amount after discount :  1172.3\n",
            "Enter The Amount : 3467\n",
            "Total discount availed : 5%\n",
            "The Bill amount after discount :  3293.6499999999996\n",
            "Enter The Amount : 456\n",
            "Total discount availed : 1%\n",
            "The Bill amount after discount :  451.44\n"
          ]
        }
      ]
    },
    {
      "cell_type": "code",
      "source": [
        "# Assignment 4.1\n",
        "\n",
        "counter = 1\n",
        "\n",
        "while counter <= 10:\n",
        "  print(counter)\n",
        "  counter += 2\n",
        "print(\"End of program\")"
      ],
      "metadata": {
        "id": "IlmHFFvQUggd",
        "colab": {
          "base_uri": "https://localhost:8080/"
        },
        "outputId": "cb5ff11c-00d4-4571-e1ec-45da1d549e66"
      },
      "execution_count": 2,
      "outputs": [
        {
          "output_type": "stream",
          "name": "stdout",
          "text": [
            "1\n",
            "3\n",
            "5\n",
            "7\n",
            "9\n",
            "End of program\n"
          ]
        }
      ]
    },
    {
      "cell_type": "code",
      "source": [
        "# Assignment 4.2\n",
        "\n",
        "result = 0\n",
        "for index in range(40, 10, -2):\n",
        "  if(index % 5 == 0):\n",
        "    result = result + index\n",
        "    print(result)"
      ],
      "metadata": {
        "id": "7r3RYEVFv4Cc",
        "colab": {
          "base_uri": "https://localhost:8080/"
        },
        "outputId": "332c66aa-07fb-4f9b-9770-60f38f1bfa8f"
      },
      "execution_count": 14,
      "outputs": [
        {
          "output_type": "stream",
          "name": "stdout",
          "text": [
            "40\n",
            "70\n",
            "90\n"
          ]
        }
      ]
    },
    {
      "cell_type": "code",
      "source": [
        "# Assignment 4.3\n",
        "\n",
        "count = 0\n",
        "for count in range(0, 10):\n",
        "  if 5 == count:\n",
        "    continue\n",
        "  if 10 == count:\n",
        "    continue\n",
        "  print(count) "
      ],
      "metadata": {
        "colab": {
          "base_uri": "https://localhost:8080/"
        },
        "id": "U9W6Qk6fxHXl",
        "outputId": "c4f16af7-344c-475f-968c-b9a693aa4942"
      },
      "execution_count": 1,
      "outputs": [
        {
          "output_type": "stream",
          "name": "stdout",
          "text": [
            "0\n",
            "1\n",
            "2\n",
            "3\n",
            "4\n",
            "6\n",
            "7\n",
            "8\n",
            "9\n"
          ]
        }
      ]
    },
    {
      "cell_type": "code",
      "source": [
        "# Assignments 4.4\n",
        "\n",
        "for i in range(1, 2):\n",
        "  for y in range(0, 1):\n",
        "    print('1')\n",
        "  print('2  4')\n",
        "  for u in range(1, 2):\n",
        "    for v in range(0, 1):\n",
        "      print('3  6  9')\n",
        "    print('4  8  12  16') \n",
        "  for t in range(1, 2):\n",
        "    for s in range(0, 1):\n",
        "      print('5  10  15  20  25')\n",
        "    print('6  12  18  24  30  36')\n",
        "  for r in range(1, 2):\n",
        "    for q in range(0, 1):\n",
        "      print('7  14  21  28  35  42  49')\n",
        "      "
      ],
      "metadata": {
        "colab": {
          "base_uri": "https://localhost:8080/"
        },
        "id": "nPvOFxEAx2q3",
        "outputId": "ecc2a180-dae9-4ec6-f8a4-b57c1fb5a2cb"
      },
      "execution_count": 21,
      "outputs": [
        {
          "output_type": "stream",
          "name": "stdout",
          "text": [
            "1\n",
            "2  4\n",
            "3  6  9\n",
            "4  8  12  16\n",
            "5  10  15  20  25\n",
            "6  12  18  24  30  36\n",
            "7  14  21  28  35  42  49\n"
          ]
        }
      ]
    },
    {
      "cell_type": "code",
      "source": [
        "for x in range(1):\n",
        "  print(\"1\")\n",
        "  print(\"2  4\")\n",
        "  print(\"3  6   9\")\n",
        "  print(\"4  8   12  16\")\n",
        "  print(\"5  10  15  20  25\")\n",
        "  print(\"6  12  18  24  30  36\")\n",
        "  print(\"7  14  21  28  35  42  49\")"
      ],
      "metadata": {
        "colab": {
          "base_uri": "https://localhost:8080/"
        },
        "id": "K_mA0hfnzGlt",
        "outputId": "ef41bfda-d3e1-4067-b95d-f1355ac8b9c1"
      },
      "execution_count": 19,
      "outputs": [
        {
          "output_type": "stream",
          "name": "stdout",
          "text": [
            "1\n",
            "2  4\n",
            "3  6   9\n",
            "4  8   12  16\n",
            "5  10  15  20  25\n",
            "6  12  18  24  30  36\n",
            "7  14  21  28  35  42  49\n"
          ]
        }
      ]
    },
    {
      "cell_type": "code",
      "source": [
        "for x in range(1, 8):\n",
        "    for y in range(x, x ** 2 + 1, x):\n",
        "        print (y, end = ' ')\n",
        "    print('\\n')"
      ],
      "metadata": {
        "colab": {
          "base_uri": "https://localhost:8080/"
        },
        "id": "wEbNsRyM1F2h",
        "outputId": "8f8ed268-e717-446b-d290-8cfb67d3433d"
      },
      "execution_count": 31,
      "outputs": [
        {
          "output_type": "stream",
          "name": "stdout",
          "text": [
            "1 \n",
            "\n",
            "2 4 \n",
            "\n",
            "3 6 9 \n",
            "\n",
            "4 8 12 16 \n",
            "\n",
            "5 10 15 20 25 \n",
            "\n",
            "6 12 18 24 30 36 \n",
            "\n",
            "7 14 21 28 35 42 49 \n",
            "\n"
          ]
        }
      ]
    },
    {
      "cell_type": "code",
      "source": [],
      "metadata": {
        "id": "i8TwqvCd2RvF"
      },
      "execution_count": null,
      "outputs": []
    }
  ]
}