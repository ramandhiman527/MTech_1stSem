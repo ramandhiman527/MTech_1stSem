{
 "cells": [
  {
   "cell_type": "markdown",
   "metadata": {
    "id": "8FU-G_vFupf6"
   },
   "source": [
    "## **Problem - 01** \n",
    "* You have x no. of 5 rupee coins and y no. of 1 rupee coins. You want to purchase an item for\n",
    "amount z. The shopkeeper wants you to provide exact change. You want to pay using\n",
    "minimum number of coins. How many 5 rupee coins and 1 rupee coins will you use? If exact\n",
    "change is not possible then display -1.\n",
    "\n",
    "|Available Rs. 1 coins| Available Rs. 5 notes | Amount to be made  | Rs. 1 coins needed  |Rs. 5 notes needed   |\n",
    "|---|---|---|---|---|\n",
    "| 2  | 4  |  21 |1   | 4  |\n",
    "| 11  |  2 |  11 |  1 | 2 |\n",
    "|  3 |  3 |  19 |   -1 |   |"
   ]
  },
  {
   "cell_type": "code",
   "execution_count": 24,
   "metadata": {
    "colab": {
     "base_uri": "https://localhost:8080/"
    },
    "id": "oSAICtX4GEEH",
    "outputId": "d69aaf4d-d157-47e3-ca9d-7f1e468f0cf1"
   },
   "outputs": [
    {
     "name": "stdout",
     "output_type": "stream",
     "text": [
      "No. of Five needed : 8\n",
      "No. of One needed  : 1\n"
     ]
    }
   ],
   "source": [
    "\n",
    "\n",
    "def coin_change_problem(total_amount, coins_of_five, coins_of_one):\n",
    "\tx_five = 0 # initialize the no of five needed for the total amount\n",
    "\tx_one = 0  # Same with no of one needed\n",
    "\n",
    "\tif( total_amount > (5 * coins_of_five + 1 * coins_of_one)):  # check what is the maximum range of amount we needed\n",
    "\t\tprint(-1)\n",
    "\telse:\n",
    "\t\tx_five = int(total_amount / 5)\n",
    "\t\tx_one = total_amount - (5 * x_five)\n",
    "\t\tprint(\"No. of Five needed :\", x_five)\n",
    "\t\tprint(\"No. of One needed  :\", x_one)\n",
    "\n",
    "coin_change_problem(41, 10, 6)\n"
   ]
  },
  {
   "cell_type": "code",
   "execution_count": null,
   "metadata": {
    "colab": {
     "base_uri": "https://localhost:8080/"
    },
    "id": "cOokq8BZIHuZ",
    "outputId": "bd8aa2e2-630d-45db-dec4-4e29a840aaad"
   },
   "outputs": [],
   "source": []
  },
  {
   "cell_type": "markdown",
   "metadata": {},
   "source": [
    "## Problem - 02\n",
    "\n",
    "* FoodCorner home delivers vegetarian and non-vegetarian combos to its customer based on order.\n",
    "\n",
    "* A vegetarian combo costs Rs.120 per plate and a non-vegetarian combo costs Rs.150 per plate. Their non-veg combo is really famous that they get more orders for their non-vegetarian combo than the vegetarian combo.\n",
    "\n",
    "* Apart from the cost per plate of food, customers are also charged for home delivery based on the distance in kms from the restaurant to the delivery point. The delivery charges are as mentioned below:\n",
    "\n",
    "|Distance in kms| Delivery charge in Rs. per km |\n",
    "|---|---|\n",
    "| For first 3kms  | 0  |\n",
    "| For next 3kms  |  3 |  \n",
    "|  For the remaining | 6 | \n",
    "\n",
    "* Given the type of food, quantity (no. of plates) and the distance in kms from the restaurant to the delivery point, write a python program to calculate the final bill amount to be paid by a customer.\n",
    "\n",
    "* The below information must be used to check the validity of the data provided by the customer:\n",
    "* Type of food must be ‘V’ for vegetarian and ‘N’ for non-vegetarian.\n",
    "* Distance in kms must be greater than 0.\n",
    "* Quantity ordered should be minimum 1.\n",
    "* If any of the input is invalid, the bill amount should be considered as -1."
   ]
  },
  {
   "cell_type": "code",
   "execution_count": 36,
   "metadata": {
    "colab": {
     "base_uri": "https://localhost:8080/"
    },
    "id": "nTscW-OzMaNE",
    "outputId": "c7e0a7a7-de12-4ab7-9f6d-7d2337865ef7"
   },
   "outputs": [
    {
     "name": "stdout",
     "output_type": "stream",
     "text": [
      "459\n"
     ]
    }
   ],
   "source": [
    "\n",
    "def calculate_bill_amount(food_type, quantity_ordered, distance_in_kms):\n",
    "    bill_amount = 0\n",
    "    \n",
    "    if((food_type == \"V\" or  food_type == \"N\") and (quantity_ordered > 0 and distance_in_kms > 0)):\n",
    "        if(food_type == \"V\"):\n",
    "            bill_amount = 120 * quantity_ordered\n",
    "        elif(food_type == \"N\"):\n",
    "            bill_amount = 150 * quantity_ordered\n",
    "        else:\n",
    "            bill_amount = -1\n",
    "        \n",
    "        if(0 < distance_in_kms <= 3):\n",
    "            bill_amount += 0 \n",
    "        elif(3 < distance_in_kms <= 6):\n",
    "            bill_amount += 3 * (distance_in_kms - 3)\n",
    "        else:\n",
    "            bill_amount += (9 + 6 * (distance_in_kms - 6)) \n",
    "    else:\n",
    "       \n",
    "        bill_amount = -1\n",
    "    \n",
    "    return bill_amount\n",
    "\n",
    "bill_amount = calculate_bill_amount(\"N\", 3, 6)\n",
    "print(bill_amount)"
   ]
  },
  {
   "cell_type": "markdown",
   "metadata": {},
   "source": [
    "## **Problem - 03**\n",
    "\n",
    "* Write a python program which finds the maximum number from num1 to num2 (num2 inclusive) based on the following rules.\n",
    "\n",
    "    * Always num1 should be less than num2\n",
    "\n",
    "    *  Consider each number from num1 to num2 (num2 inclusive). Populate the number into a list, if the below conditions are satisfied\n",
    "\n",
    "        * Sum of the digits of the number is a multiple of 3\n",
    "\n",
    "        * Number has only two digits\n",
    "\n",
    "        * Number is a multiple of 5"
   ]
  },
  {
   "cell_type": "code",
   "execution_count": 51,
   "metadata": {
    "colab": {
     "base_uri": "https://localhost:8080/"
    },
    "id": "6_0mZY9WIH4y",
    "outputId": "78fff1ec-044e-40db-97c5-49f074a2b232"
   },
   "outputs": [
    {
     "name": "stdout",
     "output_type": "stream",
     "text": [
      "45\n"
     ]
    }
   ],
   "source": [
    "\n",
    "\n",
    "def find_max(num1, num2):\n",
    "\n",
    "    list_x1 = []\n",
    "    max_num = -1\n",
    "    list_x = list(range(num1, num2 + 1))\n",
    "\n",
    "    if num1 >= num2:\n",
    "        max_num = -1\n",
    "    else:\n",
    "        for i in list_x:\n",
    "            temp_1 = i\n",
    "            temp_2 = 0\n",
    "            while temp_1 != 0:\n",
    "                temp_2 += temp_1 % 10\n",
    "                temp_1 = temp_1 // 10    \n",
    "\n",
    "            if temp_2 % 3 == 0 and i % 5 == 0 and len(str(i)) == 2:   # checking if the number is multiple of both 3 and 5 also length of digits is only 2\n",
    "                    list_x1.append(i)\n",
    "\n",
    "        if(len(list_x1) != 0):   # checking if list is empty or not\n",
    "            list_x1.sort()     # to find the largest element in the list\n",
    "            max_num = list_x1[-1]   # printing the last element\n",
    "        else:\n",
    "            max_num = -1\n",
    "    return max_num\n",
    "max_num = find_max(20, 45)\n",
    "print(max_num)"
   ]
  },
  {
   "cell_type": "markdown",
   "metadata": {},
   "source": [
    "##  Problem - 04\n",
    "\n",
    "* A teacher is conducting a camp for a group of five children. Based on their performance and behavior during the camp, the teacher rewards them with chocolates.\n",
    "\n",
    "* Write a Python function to\n",
    "    1. Find the total number of chocolates received by all the children put together.\n",
    "    Assume that each child is identified by an id and it is stored in a tuple and the number of\n",
    "    chocolates given to each child is stored in a list.\n",
    "    2. The teacher also rewards a child with few extra chocolates for his/her best conduct during\n",
    "    the camp.\n",
    "        * If the number of extra chocolates is less than 1, an error message \"Extra chocolates is\n",
    "        less than 1\", should be displayed.\n",
    "        * If the given child Id is invalid, an error message \"Child id is invalid\" should be\n",
    "        displayed. Otherwise, the extra chocolates provided for the child must be added to\n",
    "        his/her existing number of chocolates and display the list containing the total number\n",
    "        of chocolates received by each child."
   ]
  },
  {
   "cell_type": "code",
   "execution_count": 67,
   "metadata": {
    "colab": {
     "base_uri": "https://localhost:8080/"
    },
    "id": "6AoqPPPIXNAR",
    "outputId": "d7e6cce2-94f3-4d07-9666-6e9af311426a"
   },
   "outputs": [
    {
     "name": "stdout",
     "output_type": "stream",
     "text": [
      "32\n",
      "[14, 5, 7, 4, 6]\n"
     ]
    }
   ],
   "source": [
    "\n",
    "child_id = (1, 2, 3, 4, 5)\n",
    "chocolates_received = [10, 5, 7, 4, 6]\n",
    "\n",
    "def calculate_total_chocolates():\n",
    "    sum = 0\n",
    "    for choco in chocolates_received:\n",
    "        sum = sum + choco\n",
    "\n",
    "    return sum\n",
    "\n",
    "def reward_child(child_id_rewarded, extra_chocolates):\n",
    "  \n",
    "    if extra_chocolates < 1:\n",
    "        print(\"Extra chocolates is less than 1\")\n",
    "    elif child_id_rewarded not in child_id:\n",
    "        print(\"Child id is invalid\")\n",
    "    else:\n",
    "        length = len(child_id)\n",
    "\n",
    "        for num in range(length - 1):\n",
    "            if child_id_rewarded == child_id[num]:\n",
    "                chocolates_received[num] = chocolates_received[num] + extra_chocolates\n",
    "        print(chocolates_received)\n",
    "\n",
    "\n",
    "print(calculate_total_chocolates())\n",
    "\n",
    "reward_child(1, 4)\n"
   ]
  },
  {
   "cell_type": "markdown",
   "metadata": {},
   "source": [
    "## problem - 05\n",
    "\n",
    "* Write python function, **sms_encoding()** which accepts a sentence and converts it into an abbreviated sentence to be sent as SMS and returns the abbreviated sentence.\n",
    "\n",
    "* Rules are as follows:\n",
    "     * Spaces are to be retained as is\n",
    "     * Each word should be encoded separately\n",
    "         * If a word has only vowels then retain the word as is\n",
    "         * If a word has a consonant (at least 1) then retain only those consonants\n",
    "* Note: Assume that the sentence would begin with a word and there will be only a single space between the words.\n",
    "\n",
    "\n",
    "|Sample Input   |  ExpectedOutput  | \n",
    "|---|---|\n",
    "| I love Python  |  I lv Pythn |\n",
    "| MSD says I love cricket and tennis too  |   MSD sys I lv crckt nd tnns t | \n",
    "|  I will not repeat mistakes  |I wll nt rpt mstks   |"
   ]
  },
  {
   "cell_type": "code",
   "execution_count": 63,
   "metadata": {
    "colab": {
     "base_uri": "https://localhost:8080/",
     "height": 36
    },
    "id": "GtytHzrQrcwo",
    "outputId": "7af80ee6-6525-4a1f-8d16-bfdffe9eb506"
   },
   "outputs": [
    {
     "data": {
      "application/vnd.google.colaboratory.intrinsic+json": {
       "type": "string"
      },
      "text/plain": [
       "'T th Lv f my lf'"
      ]
     },
     "execution_count": 63,
     "metadata": {},
     "output_type": "execute_result"
    }
   ],
   "source": [
    "\n",
    "def encrypt_sentence(sentence):\n",
    "    word = sentence.split()      # splitting the word by word\n",
    "    vowels = \"aeiouAEIOU\"\n",
    "    st = \"\"\n",
    "    for i in word:           \n",
    "        if(len(i) == 1):     \n",
    "            st = st + i\n",
    "        else:\n",
    "            for j in i:\n",
    "                if j not in set(vowels):\n",
    "                    st = st + j\n",
    "        st = st + \" \"\n",
    "    return st[0: -1]\n",
    "sentence = \"To the Love of my life\"\n",
    "encrypt_sentence(sentence)"
   ]
  },
  {
   "cell_type": "code",
   "execution_count": null,
   "metadata": {
    "id": "HNaVpg0EXNGB"
   },
   "outputs": [],
   "source": []
  }
 ],
 "metadata": {
  "colab": {
   "provenance": []
  },
  "kernelspec": {
   "display_name": "Python 3 (ipykernel)",
   "language": "python",
   "name": "python3"
  },
  "language_info": {
   "codemirror_mode": {
    "name": "ipython",
    "version": 3
   },
   "file_extension": ".py",
   "mimetype": "text/x-python",
   "name": "python",
   "nbconvert_exporter": "python",
   "pygments_lexer": "ipython3",
   "version": "3.9.7"
  }
 },
 "nbformat": 4,
 "nbformat_minor": 1
}
