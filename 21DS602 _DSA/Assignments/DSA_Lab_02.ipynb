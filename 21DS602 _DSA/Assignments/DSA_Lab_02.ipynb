{
  "nbformat": 4,
  "nbformat_minor": 0,
  "metadata": {
    "colab": {
      "provenance": []
    },
    "kernelspec": {
      "name": "python3",
      "display_name": "Python 3"
    },
    "language_info": {
      "name": "python"
    }
  },
  "cells": [
    {
      "cell_type": "markdown",
      "source": [
        "## **DSA Lab assignment 02**"
      ],
      "metadata": {
        "id": "a_QLi7CxxXa-"
      }
    },
    {
      "cell_type": "markdown",
      "source": [
        "### ***Problem 01***\n",
        "\n",
        "You are given a stack of N integers such that the first element represents the top of the stack and the last element represents the bottom of the stack. \n",
        "\n",
        "You need to pop at least one element from the stack. At any one moment, you can convert stack into a queue. The bottom of the stack represents the front of the queue.\n",
        "\n",
        "You cannot convert the queue back into a stack. Your task is to remove exactly K elements such that the sum of the K removed elements is maximised.\n",
        "\n",
        "***Input format :***     \n",
        "\n",
        "    The first line consists of two space-separated integers N and K.\n",
        "    The second line consists of N space-separated integers denoting the elements of the stack.\n",
        "\n",
        "***Output format :***\n",
        "\n",
        "    Print the maximum possible sum of the K removed elements\n",
        "\n",
        "***Constraints:***\n",
        "\n",
        "    1 <= N <= 10^5\n",
        "    1 <= K <= N\n",
        "    1 <= Ai <= 10^9\n",
        "\n"
      ],
      "metadata": {
        "id": "5oPW5nB5cliQ"
      }
    },
    {
      "cell_type": "markdown",
      "source": [
        "#### ***1st Method***"
      ],
      "metadata": {
        "id": "Oetn1bY4yAsx"
      }
    },
    {
      "cell_type": "code",
      "source": [
        "n , k = map(int,input().split())             # stack =  the stack itself\n",
        "stack = list(map(int,input().split()))          # n = the number of elements in the stack\n",
        "                                              # k = the number of elements to be removed\n",
        "s = 0\n",
        "removed = []\n",
        "for i in range(k):\n",
        "    s += stack[i]                          # s = keeping the track of sum of the first k elements in the stack\n",
        "    removed.append(stack[i])\n",
        "\n",
        "m = s\n",
        "print(m)\n",
        "for i in range(k-1):    \n",
        "    s = s - stack[k-i-1] + stack[n-1-i]\n",
        "    removed.append(stack[k-i-1])\n",
        "    if s >= m:\n",
        "        m = s\n",
        "\n",
        "print(\"Removed elements: \", removed)\n",
        "print(\"Sum of removed elements:\", m)"
      ],
      "metadata": {
        "colab": {
          "base_uri": "https://localhost:8080/",
          "height": 0
        },
        "id": "qtv33Es1eNum",
        "outputId": "4aa55b5b-b126-4b40-adf7-a6719e256a75"
      },
      "execution_count": 11,
      "outputs": [
        {
          "output_type": "stream",
          "name": "stdout",
          "text": [
            "10 5\n",
            "10 9 1 2 3 4 5 6 7 8\n",
            "25\n",
            "Removed elements:  [10, 9, 1, 2, 3, 3, 2, 1, 9]\n",
            "Sum of removed elements: 40\n"
          ]
        }
      ]
    },
    {
      "cell_type": "markdown",
      "source": [
        "#### ***2nd Method***"
      ],
      "metadata": {
        "id": "04YpipA8yFh4"
      }
    },
    {
      "cell_type": "code",
      "source": [
        "def maximum_sum(n, k, stack):\n",
        "    stack.sort(reverse=True)      # stack is sorted in descending order using the sort method\n",
        "    removed = stack[:k]              # first k elements are removed\n",
        "    return sum(removed), removed\n",
        "\n",
        "n, k = map(int, input().split())              # --Three arguments--\n",
        "stack = list(map(int, input().split()))      # n = the number of elements in the stack, stack =  the stack itself (stack)\n",
        "sum_of_removed, removed = maximum_sum(n, k, stack)\n",
        "print(\"Sum of removed elements:\", sum_of_removed)\n",
        "print(\"Removed elements:\", removed)\n",
        "                                                "
      ],
      "metadata": {
        "colab": {
          "base_uri": "https://localhost:8080/",
          "height": 0
        },
        "id": "4H8kSXHufPpi",
        "outputId": "1fbc533d-20c4-44ac-df2e-7d80201227b0"
      },
      "execution_count": 12,
      "outputs": [
        {
          "output_type": "stream",
          "name": "stdout",
          "text": [
            "10 5\n",
            "10 9 1 2 3 4 5 6 7 8\n",
            "Sum of removed elements: 40\n",
            "Removed elements: [10, 9, 8, 7, 6]\n"
          ]
        }
      ]
    },
    {
      "cell_type": "markdown",
      "source": [
        "### ***Problem 02***\n",
        "\n",
        "You are given two arrays each of size n, a and b consisting of the first n positive integers each exactly once, that is, they are permutations.\n",
        "\n",
        "Your task is to find the minimum time required to make both the arrays empty. The following two types of operations can be performed any number of times each taking 1 second:\n",
        "\n",
        "In the first operation, you are allowed to rotate the first array clockwise.\n",
        "In the second operation, when the first element of both the arrays is the same, they are removed from both the arrays and the process continues.\n",
        "\n",
        "**Input format**\n",
        "\n",
        "    The first line contains an integer n, denoting the size of the array a.\n",
        "    The second line contains the elements of array b.\n",
        "    The third line contains the elements of array \n",
        ".\n",
        "**Output format**\n",
        "\n",
        "    Print the total time taken required to empty both the array.\n",
        "\n",
        "Constraints\n",
        "\n",
        "    1 <= n <= 100"
      ],
      "metadata": {
        "id": "PNz8Aj7JqBZT"
      }
    },
    {
      "cell_type": "code",
      "source": [
        "def minimum_time(n, a, b):        # takes in the size of the arrays (n) and the arrays themselves (a and b)\n",
        "    time = 0\n",
        "    i = 0\n",
        "    while len(a) > 0 and len(b) > 0:     # The loop continues until either a or b is emptied.\n",
        "        while a[0] != b[0]:          # first elements of both arrays are compared\n",
        "            a.append(a.pop(0))       # If not equal, the first element of a is rotated to the end of the array\n",
        "            time += 1                \n",
        "        a.pop(0)                   # here, the first elements of both arrays are equal, they are popped\n",
        "        b.pop(0)\n",
        "        time += 1\n",
        "    return time\n",
        "\n",
        "n = int(input().strip())\n",
        "b = list(map(int, input().strip().split()))\n",
        "a = list(map(int, input().strip().split()))\n",
        "print(minimum_time(n, a, b))\n"
      ],
      "metadata": {
        "colab": {
          "base_uri": "https://localhost:8080/"
        },
        "id": "ylL8uGzqpjpx",
        "outputId": "bd2e1bf9-36eb-471d-ac0c-c5f89a61e649"
      },
      "execution_count": null,
      "outputs": [
        {
          "output_type": "stream",
          "name": "stdout",
          "text": [
            "3\n",
            "1 3 2\n",
            "2 3 1\n",
            "6\n"
          ]
        }
      ]
    }
  ]
}