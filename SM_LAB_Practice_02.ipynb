{
  "nbformat": 4,
  "nbformat_minor": 0,
  "metadata": {
    "colab": {
      "provenance": [],
      "authorship_tag": "ABX9TyMbh1NMOphJJncxjuU+JbCV",
      "include_colab_link": true
    },
    "kernelspec": {
      "name": "python3",
      "display_name": "Python 3"
    },
    "language_info": {
      "name": "python"
    }
  },
  "cells": [
    {
      "cell_type": "markdown",
      "metadata": {
        "id": "view-in-github",
        "colab_type": "text"
      },
      "source": [
        "<a href=\"https://colab.research.google.com/github/ramandhiman527/MTech_1stSem/blob/main/SM_LAB_Practice_02.ipynb\" target=\"_parent\"><img src=\"https://colab.research.google.com/assets/colab-badge.svg\" alt=\"Open In Colab\"/></a>"
      ]
    },
    {
      "cell_type": "code",
      "execution_count": 19,
      "metadata": {
        "id": "AHWxb362o9re"
      },
      "outputs": [],
      "source": [
        "import pandas as pd\n",
        "import matplotlib.pyplot as plt\n",
        "import seaborn as sns\n",
        "import numpy as np"
      ]
    },
    {
      "cell_type": "code",
      "source": [
        "df = pd.read_csv('/content/Dataset_1.csv')\n",
        "print(df.head())"
      ],
      "metadata": {
        "colab": {
          "base_uri": "https://localhost:8080/"
        },
        "id": "ij2mPE90Pvgd",
        "outputId": "65d61f26-405a-43ac-8b36-c91bfe26bf5f"
      },
      "execution_count": 20,
      "outputs": [
        {
          "output_type": "stream",
          "name": "stdout",
          "text": [
            "    ord_no  purch_amt    ord_date  customer_id  salesman_id\n",
            "0  70001.0     150.50  05-10-2012         3002       5002.0\n",
            "1      NaN     270.65  10-09-2012         3001       5003.0\n",
            "2  70002.0      65.26         NaN         3001       5001.0\n",
            "3  70004.0     110.50  17-08-2012         3003          NaN\n",
            "4      NaN     948.50  10-09-2012         3002       5002.0\n"
          ]
        }
      ]
    },
    {
      "cell_type": "code",
      "source": [
        "\"\"\" Question 01 \"\"\"\n",
        "\n",
        "# Display rows 3 through 8 and all columns of the Data Frame\n",
        "df.iloc[2:8, :]\n",
        "print(df)"
      ],
      "metadata": {
        "colab": {
          "base_uri": "https://localhost:8080/"
        },
        "id": "b4RlQUW-PvtC",
        "outputId": "43bdae59-7629-46f2-e5ac-15cc3dcc0ab1"
      },
      "execution_count": 21,
      "outputs": [
        {
          "output_type": "stream",
          "name": "stdout",
          "text": [
            "     ord_no  purch_amt    ord_date  customer_id  salesman_id\n",
            "0   70001.0     150.50  05-10-2012         3002       5002.0\n",
            "1       NaN     270.65  10-09-2012         3001       5003.0\n",
            "2   70002.0      65.26         NaN         3001       5001.0\n",
            "3   70004.0     110.50  17-08-2012         3003          NaN\n",
            "4       NaN     948.50  10-09-2012         3002       5002.0\n",
            "5   70005.0    2400.60  27-07-2012         3001       5001.0\n",
            "6       NaN    5760.00  10-09-2012         3001       5001.0\n",
            "7   70010.0    1983.43  10-10-2012         3004          NaN\n",
            "8   70003.0    2480.40  10-10-2012         3003       5003.0\n",
            "9   70012.0     250.45  27-06-2012         3002       5002.0\n",
            "10      NaN      75.29  17-08-2012         3001       5003.0\n",
            "11  70013.0    3045.60  25-04-2012         3001          NaN\n"
          ]
        }
      ]
    },
    {
      "cell_type": "code",
      "source": [
        "\"\"\" Question 02 \"\"\"\n",
        "\n",
        "# Display the total purchase amount(purch_amt) of each customer(Each customer is represented by a unique customer ID).\n",
        "df_grouped = df.groupby('customer_id')['purch_amt'].sum()\n",
        "print(df_grouped)"
      ],
      "metadata": {
        "colab": {
          "base_uri": "https://localhost:8080/"
        },
        "id": "TjK2APgOqxyF",
        "outputId": "ff1bae5a-6d83-4d37-b0fa-64608b39a5c0"
      },
      "execution_count": 22,
      "outputs": [
        {
          "output_type": "stream",
          "name": "stdout",
          "text": [
            "customer_id\n",
            "3001    11617.40\n",
            "3002     1349.45\n",
            "3003     2590.90\n",
            "3004     1983.43\n",
            "Name: purch_amt, dtype: float64\n"
          ]
        }
      ]
    },
    {
      "cell_type": "code",
      "source": [
        "\"\"\" Question 03 \"\"\"\n",
        "\n",
        "# assuming 'df' is the name of your dataframe\n",
        "# df[['ord_no', 'ord_date', 'salesman_id']].replace(np.nan, 999, inplace=True)\n",
        "df[['ord_no', 'ord_date', 'salesman_id']] = df[['ord_no', 'ord_date', 'salesman_id']].fillna(999)\n",
        "\n",
        "print(df)"
      ],
      "metadata": {
        "colab": {
          "base_uri": "https://localhost:8080/"
        },
        "id": "sUBVCvgERf6P",
        "outputId": "2752ee8a-e3d8-4b24-f93c-0c973642dd83"
      },
      "execution_count": 23,
      "outputs": [
        {
          "output_type": "stream",
          "name": "stdout",
          "text": [
            "     ord_no  purch_amt    ord_date  customer_id  salesman_id\n",
            "0   70001.0     150.50  05-10-2012         3002       5002.0\n",
            "1     999.0     270.65  10-09-2012         3001       5003.0\n",
            "2   70002.0      65.26         999         3001       5001.0\n",
            "3   70004.0     110.50  17-08-2012         3003        999.0\n",
            "4     999.0     948.50  10-09-2012         3002       5002.0\n",
            "5   70005.0    2400.60  27-07-2012         3001       5001.0\n",
            "6     999.0    5760.00  10-09-2012         3001       5001.0\n",
            "7   70010.0    1983.43  10-10-2012         3004        999.0\n",
            "8   70003.0    2480.40  10-10-2012         3003       5003.0\n",
            "9   70012.0     250.45  27-06-2012         3002       5002.0\n",
            "10    999.0      75.29  17-08-2012         3001       5003.0\n",
            "11  70013.0    3045.60  25-04-2012         3001        999.0\n"
          ]
        }
      ]
    },
    {
      "cell_type": "code",
      "source": [
        "\"\"\" Question 04 \"\"\"\n",
        "\n",
        "# Create a lineplot for plotting 'ord_no' and 'purch_amt' \n",
        "plt.plot(df['ord_no'], df['purch_amt'])\n",
        "plt.xlabel('ord_no')\n",
        "plt.ylabel('purch_amt')\n",
        "plt.title('Line Plot of ord_no vs purch_amt')\n",
        "plt.show()"
      ],
      "metadata": {
        "colab": {
          "base_uri": "https://localhost:8080/",
          "height": 296
        },
        "id": "--pal-hXT4ZB",
        "outputId": "ceac127b-70c1-4b3a-b94e-910875602358"
      },
      "execution_count": 24,
      "outputs": [
        {
          "output_type": "display_data",
          "data": {
            "text/plain": [
              "<Figure size 432x288 with 1 Axes>"
            ],
            "image/png": "[encoded data removed]"
          },
          "metadata": {
            "needs_background": "light"
          }
        }
      ]
    },
    {
      "cell_type": "code",
      "source": [
        "import seaborn as sns\n",
        "\n",
        "# assuming 'df' is the name of your dataframe\n",
        "sns.lineplot(x='ord_no', y='purch_amt', data=df)\n"
      ],
      "metadata": {
        "colab": {
          "base_uri": "https://localhost:8080/",
          "height": 297
        },
        "id": "iaNV2-x-WIxY",
        "outputId": "90b1adc4-4988-4766-dfd0-97778916bf15"
      },
      "execution_count": 25,
      "outputs": [
        {
          "output_type": "execute_result",
          "data": {
            "text/plain": [
              "<matplotlib.axes._subplots.AxesSubplot at 0x7f8b730cfb50>"
            ]
          },
          "metadata": {},
          "execution_count": 25
        },
        {
          "output_type": "display_data",
          "data": {
            "text/plain": [
              "<Figure size 432x288 with 1 Axes>"
            ],
            "image/png": "[encoded data removed]"
          },
          "metadata": {
            "needs_background": "light"
          }
        }
      ]
    },
    {
      "cell_type": "code",
      "source": [
        "\"\"\" Question 05 \"\"\"\n",
        "\n",
        "# assuming 'df' is the name of your dataframe\n",
        "df = df.drop(df.tail(3).index)\n",
        "#df = df.drop(df.index[-3:])\n",
        "print(df)"
      ],
      "metadata": {
        "colab": {
          "base_uri": "https://localhost:8080/"
        },
        "id": "Cssu42UcWLvZ",
        "outputId": "af68bcdc-b2b3-47ba-dca2-32241cf6bd19"
      },
      "execution_count": 26,
      "outputs": [
        {
          "output_type": "stream",
          "name": "stdout",
          "text": [
            "    ord_no  purch_amt    ord_date  customer_id  salesman_id\n",
            "0  70001.0     150.50  05-10-2012         3002       5002.0\n",
            "1    999.0     270.65  10-09-2012         3001       5003.0\n",
            "2  70002.0      65.26         999         3001       5001.0\n",
            "3  70004.0     110.50  17-08-2012         3003        999.0\n",
            "4    999.0     948.50  10-09-2012         3002       5002.0\n",
            "5  70005.0    2400.60  27-07-2012         3001       5001.0\n",
            "6    999.0    5760.00  10-09-2012         3001       5001.0\n",
            "7  70010.0    1983.43  10-10-2012         3004        999.0\n",
            "8  70003.0    2480.40  10-10-2012         3003       5003.0\n"
          ]
        }
      ]
    },
    {
      "cell_type": "code",
      "source": [
        "# --------------------------------------------------------------------------------------------------------"
      ],
      "metadata": {
        "id": "dgB0LYXKWtuS"
      },
      "execution_count": 27,
      "outputs": []
    },
    {
      "cell_type": "code",
      "source": [
        "\"\"\" Dataset - 02 \"\"\"\n",
        "\n",
        "df = pd.read_csv('/content/Dataset_2.csv')\n",
        "print(df)"
      ],
      "metadata": {
        "colab": {
          "base_uri": "https://localhost:8080/"
        },
        "id": "AN4RitgLb-Ld",
        "outputId": "70ca6e43-ad81-4e53-be37-12d08795d8e4"
      },
      "execution_count": 37,
      "outputs": [
        {
          "output_type": "stream",
          "name": "stdout",
          "text": [
            "  school class     name date_Of_Birth   age  height  weight  address\n",
            "0   s001     V  Alberto    15-05-2002  12.0   173.0    35.0  street1\n",
            "1   s002     V     Gino    17-05-2002  12.0   192.0     NaN  street2\n",
            "2   s003    VI     Ryan    16-02-1999   NaN   186.0    33.0  street3\n",
            "3   s001    VI    Eesha    25-09-1998  13.0   167.0    30.0  street1\n",
            "4   s002     V     Gino    11-05-2002  14.0     NaN    31.0  street2\n",
            "5   s004    VI    David    15-09-1997  12.0   159.0    32.0  street4\n",
            "6   s003     V     John    16-02-2002  12.0   168.0    33.0  street3\n"
          ]
        }
      ]
    },
    {
      "cell_type": "code",
      "source": [
        "\"\"\" Question 01 \"\"\"\n",
        "\n",
        "# Display rows 1, 3, 6 and all columns\n",
        "df.loc[[1, 3, 6], :]\n"
      ],
      "metadata": {
        "colab": {
          "base_uri": "https://localhost:8080/",
          "height": 143
        },
        "id": "W3xM16CoejKz",
        "outputId": "50cf941c-736c-41ca-94ec-fa2407791cd5"
      },
      "execution_count": 38,
      "outputs": [
        {
          "output_type": "execute_result",
          "data": {
            "text/plain": [
              "  school class   name date_Of_Birth   age  height  weight  address\n",
              "1   s002     V   Gino    17-05-2002  12.0   192.0     NaN  street2\n",
              "3   s001    VI  Eesha    25-09-1998  13.0   167.0    30.0  street1\n",
              "6   s003     V   John    16-02-2002  12.0   168.0    33.0  street3"
            ],
            "text/html": [
              "\n",
              "  <div id=\"df-3a3ad9ba-d17f-4cb0-9257-22f709aeb576\">\n",
              "    <div class=\"colab-df-container\">\n",
              "      <div>\n",
              "<style scoped>\n",
              "    .dataframe tbody tr th:only-of-type {\n",
              "        vertical-align: middle;\n",
              "    }\n",
              "\n",
              "    .dataframe tbody tr th {\n",
              "        vertical-align: top;\n",
              "    }\n",
              "\n",
              "    .dataframe thead th {\n",
              "        text-align: right;\n",
              "    }\n",
              "</style>\n",
              "<table border=\"1\" class=\"dataframe\">\n",
              "  <thead>\n",
              "    <tr style=\"text-align: right;\">\n",
              "      <th></th>\n",
              "      <th>school</th>\n",
              "      <th>class</th>\n",
              "      <th>name</th>\n",
              "      <th>date_Of_Birth</th>\n",
              "      <th>age</th>\n",
              "      <th>height</th>\n",
              "      <th>weight</th>\n",
              "      <th>address</th>\n",
              "    </tr>\n",
              "  </thead>\n",
              "  <tbody>\n",
              "    <tr>\n",
              "      <th>1</th>\n",
              "      <td>s002</td>\n",
              "      <td>V</td>\n",
              "      <td>Gino</td>\n",
              "      <td>17-05-2002</td>\n",
              "      <td>12.0</td>\n",
              "      <td>192.0</td>\n",
              "      <td>NaN</td>\n",
              "      <td>street2</td>\n",
              "    </tr>\n",
              "    <tr>\n",
              "      <th>3</th>\n",
              "      <td>s001</td>\n",
              "      <td>VI</td>\n",
              "      <td>Eesha</td>\n",
              "      <td>25-09-1998</td>\n",
              "      <td>13.0</td>\n",
              "      <td>167.0</td>\n",
              "      <td>30.0</td>\n",
              "      <td>street1</td>\n",
              "    </tr>\n",
              "    <tr>\n",
              "      <th>6</th>\n",
              "      <td>s003</td>\n",
              "      <td>V</td>\n",
              "      <td>John</td>\n",
              "      <td>16-02-2002</td>\n",
              "      <td>12.0</td>\n",
              "      <td>168.0</td>\n",
              "      <td>33.0</td>\n",
              "      <td>street3</td>\n",
              "    </tr>\n",
              "  </tbody>\n",
              "</table>\n",
              "</div>\n",
              "      <button class=\"colab-df-convert\" onclick=\"convertToInteractive('df-3a3ad9ba-d17f-4cb0-9257-22f709aeb576')\"\n",
              "              title=\"Convert this dataframe to an interactive table.\"\n",
              "              style=\"display:none;\">\n",
              "        \n",
              "  <svg xmlns=\"http://www.w3.org/2000/svg\" height=\"24px\"viewBox=\"0 0 24 24\"\n",
              "       width=\"24px\">\n",
              "    <path d=\"M0 0h24v24H0V0z\" fill=\"none\"/>\n",
              "    <path d=\"M18.56 5.44l.94 2.06.94-2.06 2.06-.94-2.06-.94-.94-2.06-.94 2.06-2.06.94zm-11 1L8.5 8.5l.94-2.06 2.06-.94-2.06-.94L8.5 2.5l-.94 2.06-2.06.94zm10 10l.94 2.06.94-2.06 2.06-.94-2.06-.94-.94-2.06-.94 2.06-2.06.94z\"/><path d=\"M17.41 7.96l-1.37-1.37c-.4-.4-.92-.59-1.43-.59-.52 0-1.04.2-1.43.59L10.3 9.45l-7.72 7.72c-.78.78-.78 2.05 0 2.83L4 21.41c.39.39.9.59 1.41.59.51 0 1.02-.2 1.41-.59l7.78-7.78 2.81-2.81c.8-.78.8-2.07 0-2.86zM5.41 20L4 18.59l7.72-7.72 1.47 1.35L5.41 20z\"/>\n",
              "  </svg>\n",
              "      </button>\n",
              "      \n",
              "  <style>\n",
              "    .colab-df-container {\n",
              "      display:flex;\n",
              "      flex-wrap:wrap;\n",
              "      gap: 12px;\n",
              "    }\n",
              "\n",
              "    .colab-df-convert {\n",
              "      background-color: #E8F0FE;\n",
              "      border: none;\n",
              "      border-radius: 50%;\n",
              "      cursor: pointer;\n",
              "      display: none;\n",
              "      fill: #1967D2;\n",
              "      height: 32px;\n",
              "      padding: 0 0 0 0;\n",
              "      width: 32px;\n",
              "    }\n",
              "\n",
              "    .colab-df-convert:hover {\n",
              "      background-color: #E2EBFA;\n",
              "      box-shadow: 0px 1px 2px rgba(60, 64, 67, 0.3), 0px 1px 3px 1px rgba(60, 64, 67, 0.15);\n",
              "      fill: #174EA6;\n",
              "    }\n",
              "\n",
              "    [theme=dark] .colab-df-convert {\n",
              "      background-color: #3B4455;\n",
              "      fill: #D2E3FC;\n",
              "    }\n",
              "\n",
              "    [theme=dark] .colab-df-convert:hover {\n",
              "      background-color: #434B5C;\n",
              "      box-shadow: 0px 1px 3px 1px rgba(0, 0, 0, 0.15);\n",
              "      filter: drop-shadow(0px 1px 2px rgba(0, 0, 0, 0.3));\n",
              "      fill: #FFFFFF;\n",
              "    }\n",
              "  </style>\n",
              "\n",
              "      <script>\n",
              "        const buttonEl =\n",
              "          document.querySelector('#df-3a3ad9ba-d17f-4cb0-9257-22f709aeb576 button.colab-df-convert');\n",
              "        buttonEl.style.display =\n",
              "          google.colab.kernel.accessAllowed ? 'block' : 'none';\n",
              "\n",
              "        async function convertToInteractive(key) {\n",
              "          const element = document.querySelector('#df-3a3ad9ba-d17f-4cb0-9257-22f709aeb576');\n",
              "          const dataTable =\n",
              "            await google.colab.kernel.invokeFunction('convertToInteractive',\n",
              "                                                     [key], {});\n",
              "          if (!dataTable) return;\n",
              "\n",
              "          const docLinkHtml = 'Like what you see? Visit the ' +\n",
              "            '<a target=\"_blank\" href=https://colab.research.google.com/notebooks/data_table.ipynb>data table notebook</a>'\n",
              "            + ' to learn more about interactive tables.';\n",
              "          element.innerHTML = '';\n",
              "          dataTable['output_type'] = 'display_data';\n",
              "          await google.colab.output.renderOutput(dataTable, element);\n",
              "          const docLink = document.createElement('div');\n",
              "          docLink.innerHTML = docLinkHtml;\n",
              "          element.appendChild(docLink);\n",
              "        }\n",
              "      </script>\n",
              "    </div>\n",
              "  </div>\n",
              "  "
            ]
          },
          "metadata": {},
          "execution_count": 38
        }
      ]
    },
    {
      "cell_type": "code",
      "source": [
        "\"\"\" Question 02 \"\"\"\n",
        "\n",
        "# Get the numeric columns\n",
        "numeric_cols = df.select_dtypes(include=[np.number]).columns\n",
        "\n",
        "# Replace missing values with the mean of that column for numeric columns\n",
        "for col in numeric_cols:\n",
        "    mean = df[col].mean()\n",
        "    df[col].fillna(mean, inplace=True)"
      ],
      "metadata": {
        "id": "T0_wrmhFelWd"
      },
      "execution_count": 38,
      "outputs": []
    },
    {
      "cell_type": "code",
      "source": [
        "\"\"\" Question 03 \"\"\"\n",
        "\n",
        "# Find the average height of students of each school\n",
        "average_height = df.groupby('school')['height'].mean()\n",
        "print(average_height)"
      ],
      "metadata": {
        "colab": {
          "base_uri": "https://localhost:8080/"
        },
        "id": "PXBcFAfUeyBg",
        "outputId": "55d7531b-f607-406f-9f75-4a4339d91aec"
      },
      "execution_count": 45,
      "outputs": [
        {
          "output_type": "stream",
          "name": "stdout",
          "text": [
            "school\n",
            "s001    170.000000\n",
            "s002    183.083333\n",
            "s003    177.000000\n",
            "s004    159.000000\n",
            "Name: height, dtype: float64\n"
          ]
        }
      ]
    },
    {
      "cell_type": "code",
      "source": [
        "\"\"\" Question 04 \"\"\"\n",
        "\n",
        "from sklearn.preprocessing import minmax_scale\n",
        "\n",
        "# Normalize the columns\n",
        "df[['age', 'height', 'weight']] = minmax_scale(df[['age', 'height', 'weight']])\n",
        "df"
      ],
      "metadata": {
        "colab": {
          "base_uri": "https://localhost:8080/",
          "height": 269
        },
        "id": "azpoCwOpvurK",
        "outputId": "1ad71cdc-fe99-4102-fae6-1743aaf5aa85"
      },
      "execution_count": 49,
      "outputs": [
        {
          "output_type": "execute_result",
          "data": {
            "text/plain": [
              "  school class     name date_Of_Birth   age    height    weight  address\n",
              "0   s001     V  Alberto    15-05-2002  0.00  0.424242  1.000000  street1\n",
              "1   s002     V     Gino    17-05-2002  0.00  1.000000  0.466667  street2\n",
              "2   s003    VI     Ryan    16-02-1999  0.25  0.818182  0.600000  street3\n",
              "3   s001    VI    Eesha    25-09-1998  0.50  0.242424  0.000000  street1\n",
              "4   s002     V     Gino    11-05-2002  1.00  0.459596  0.200000  street2\n",
              "5   s004    VI    David    15-09-1997  0.00  0.000000  0.400000  street4\n",
              "6   s003     V     John    16-02-2002  0.00  0.272727  0.600000  street3"
            ],
            "text/html": [
              "\n",
              "  <div id=\"df-e984af6f-0157-42dc-bb06-e8a9381a6d5a\">\n",
              "    <div class=\"colab-df-container\">\n",
              "      <div>\n",
              "<style scoped>\n",
              "    .dataframe tbody tr th:only-of-type {\n",
              "        vertical-align: middle;\n",
              "    }\n",
              "\n",
              "    .dataframe tbody tr th {\n",
              "        vertical-align: top;\n",
              "    }\n",
              "\n",
              "    .dataframe thead th {\n",
              "        text-align: right;\n",
              "    }\n",
              "</style>\n",
              "<table border=\"1\" class=\"dataframe\">\n",
              "  <thead>\n",
              "    <tr style=\"text-align: right;\">\n",
              "      <th></th>\n",
              "      <th>school</th>\n",
              "      <th>class</th>\n",
              "      <th>name</th>\n",
              "      <th>date_Of_Birth</th>\n",
              "      <th>age</th>\n",
              "      <th>height</th>\n",
              "      <th>weight</th>\n",
              "      <th>address</th>\n",
              "    </tr>\n",
              "  </thead>\n",
              "  <tbody>\n",
              "    <tr>\n",
              "      <th>0</th>\n",
              "      <td>s001</td>\n",
              "      <td>V</td>\n",
              "      <td>Alberto</td>\n",
              "      <td>15-05-2002</td>\n",
              "      <td>0.00</td>\n",
              "      <td>0.424242</td>\n",
              "      <td>1.000000</td>\n",
              "      <td>street1</td>\n",
              "    </tr>\n",
              "    <tr>\n",
              "      <th>1</th>\n",
              "      <td>s002</td>\n",
              "      <td>V</td>\n",
              "      <td>Gino</td>\n",
              "      <td>17-05-2002</td>\n",
              "      <td>0.00</td>\n",
              "      <td>1.000000</td>\n",
              "      <td>0.466667</td>\n",
              "      <td>street2</td>\n",
              "    </tr>\n",
              "    <tr>\n",
              "      <th>2</th>\n",
              "      <td>s003</td>\n",
              "      <td>VI</td>\n",
              "      <td>Ryan</td>\n",
              "      <td>16-02-1999</td>\n",
              "      <td>0.25</td>\n",
              "      <td>0.818182</td>\n",
              "      <td>0.600000</td>\n",
              "      <td>street3</td>\n",
              "    </tr>\n",
              "    <tr>\n",
              "      <th>3</th>\n",
              "      <td>s001</td>\n",
              "      <td>VI</td>\n",
              "      <td>Eesha</td>\n",
              "      <td>25-09-1998</td>\n",
              "      <td>0.50</td>\n",
              "      <td>0.242424</td>\n",
              "      <td>0.000000</td>\n",
              "      <td>street1</td>\n",
              "    </tr>\n",
              "    <tr>\n",
              "      <th>4</th>\n",
              "      <td>s002</td>\n",
              "      <td>V</td>\n",
              "      <td>Gino</td>\n",
              "      <td>11-05-2002</td>\n",
              "      <td>1.00</td>\n",
              "      <td>0.459596</td>\n",
              "      <td>0.200000</td>\n",
              "      <td>street2</td>\n",
              "    </tr>\n",
              "    <tr>\n",
              "      <th>5</th>\n",
              "      <td>s004</td>\n",
              "      <td>VI</td>\n",
              "      <td>David</td>\n",
              "      <td>15-09-1997</td>\n",
              "      <td>0.00</td>\n",
              "      <td>0.000000</td>\n",
              "      <td>0.400000</td>\n",
              "      <td>street4</td>\n",
              "    </tr>\n",
              "    <tr>\n",
              "      <th>6</th>\n",
              "      <td>s003</td>\n",
              "      <td>V</td>\n",
              "      <td>John</td>\n",
              "      <td>16-02-2002</td>\n",
              "      <td>0.00</td>\n",
              "      <td>0.272727</td>\n",
              "      <td>0.600000</td>\n",
              "      <td>street3</td>\n",
              "    </tr>\n",
              "  </tbody>\n",
              "</table>\n",
              "</div>\n",
              "      <button class=\"colab-df-convert\" onclick=\"convertToInteractive('df-e984af6f-0157-42dc-bb06-e8a9381a6d5a')\"\n",
              "              title=\"Convert this dataframe to an interactive table.\"\n",
              "              style=\"display:none;\">\n",
              "        \n",
              "  <svg xmlns=\"http://www.w3.org/2000/svg\" height=\"24px\"viewBox=\"0 0 24 24\"\n",
              "       width=\"24px\">\n",
              "    <path d=\"M0 0h24v24H0V0z\" fill=\"none\"/>\n",
              "    <path d=\"M18.56 5.44l.94 2.06.94-2.06 2.06-.94-2.06-.94-.94-2.06-.94 2.06-2.06.94zm-11 1L8.5 8.5l.94-2.06 2.06-.94-2.06-.94L8.5 2.5l-.94 2.06-2.06.94zm10 10l.94 2.06.94-2.06 2.06-.94-2.06-.94-.94-2.06-.94 2.06-2.06.94z\"/><path d=\"M17.41 7.96l-1.37-1.37c-.4-.4-.92-.59-1.43-.59-.52 0-1.04.2-1.43.59L10.3 9.45l-7.72 7.72c-.78.78-.78 2.05 0 2.83L4 21.41c.39.39.9.59 1.41.59.51 0 1.02-.2 1.41-.59l7.78-7.78 2.81-2.81c.8-.78.8-2.07 0-2.86zM5.41 20L4 18.59l7.72-7.72 1.47 1.35L5.41 20z\"/>\n",
              "  </svg>\n",
              "      </button>\n",
              "      \n",
              "  <style>\n",
              "    .colab-df-container {\n",
              "      display:flex;\n",
              "      flex-wrap:wrap;\n",
              "      gap: 12px;\n",
              "    }\n",
              "\n",
              "    .colab-df-convert {\n",
              "      background-color: #E8F0FE;\n",
              "      border: none;\n",
              "      border-radius: 50%;\n",
              "      cursor: pointer;\n",
              "      display: none;\n",
              "      fill: #1967D2;\n",
              "      height: 32px;\n",
              "      padding: 0 0 0 0;\n",
              "      width: 32px;\n",
              "    }\n",
              "\n",
              "    .colab-df-convert:hover {\n",
              "      background-color: #E2EBFA;\n",
              "      box-shadow: 0px 1px 2px rgba(60, 64, 67, 0.3), 0px 1px 3px 1px rgba(60, 64, 67, 0.15);\n",
              "      fill: #174EA6;\n",
              "    }\n",
              "\n",
              "    [theme=dark] .colab-df-convert {\n",
              "      background-color: #3B4455;\n",
              "      fill: #D2E3FC;\n",
              "    }\n",
              "\n",
              "    [theme=dark] .colab-df-convert:hover {\n",
              "      background-color: #434B5C;\n",
              "      box-shadow: 0px 1px 3px 1px rgba(0, 0, 0, 0.15);\n",
              "      filter: drop-shadow(0px 1px 2px rgba(0, 0, 0, 0.3));\n",
              "      fill: #FFFFFF;\n",
              "    }\n",
              "  </style>\n",
              "\n",
              "      <script>\n",
              "        const buttonEl =\n",
              "          document.querySelector('#df-e984af6f-0157-42dc-bb06-e8a9381a6d5a button.colab-df-convert');\n",
              "        buttonEl.style.display =\n",
              "          google.colab.kernel.accessAllowed ? 'block' : 'none';\n",
              "\n",
              "        async function convertToInteractive(key) {\n",
              "          const element = document.querySelector('#df-e984af6f-0157-42dc-bb06-e8a9381a6d5a');\n",
              "          const dataTable =\n",
              "            await google.colab.kernel.invokeFunction('convertToInteractive',\n",
              "                                                     [key], {});\n",
              "          if (!dataTable) return;\n",
              "\n",
              "          const docLinkHtml = 'Like what you see? Visit the ' +\n",
              "            '<a target=\"_blank\" href=https://colab.research.google.com/notebooks/data_table.ipynb>data table notebook</a>'\n",
              "            + ' to learn more about interactive tables.';\n",
              "          element.innerHTML = '';\n",
              "          dataTable['output_type'] = 'display_data';\n",
              "          await google.colab.output.renderOutput(dataTable, element);\n",
              "          const docLink = document.createElement('div');\n",
              "          docLink.innerHTML = docLinkHtml;\n",
              "          element.appendChild(docLink);\n",
              "        }\n",
              "      </script>\n",
              "    </div>\n",
              "  </div>\n",
              "  "
            ]
          },
          "metadata": {},
          "execution_count": 49
        }
      ]
    },
    {
      "cell_type": "code",
      "source": [
        "\"\"\" Question 05 \"\"\"\n",
        "\n",
        "#Create a scatter plot for the attributes-age and weight for visualizing the relationship between them\n",
        "\n",
        "# Scatter Plot\n",
        "plt.scatter(df['age'], df['weight'])\n",
        "\n",
        "# Add axis labels\n",
        "plt.xlabel('Age')\n",
        "plt.ylabel('Weight')\n",
        "\n",
        "# Show plot\n",
        "plt.show()"
      ],
      "metadata": {
        "colab": {
          "base_uri": "https://localhost:8080/",
          "height": 279
        },
        "id": "_3fI-uVUjD1o",
        "outputId": "869155c5-96f4-4764-9030-2ac68b027416"
      },
      "execution_count": 54,
      "outputs": [
        {
          "output_type": "display_data",
          "data": {
            "text/plain": [
              "<Figure size 432x288 with 1 Axes>"
            ],
            "image/png": "[encoded data removed]"
          },
          "metadata": {
            "needs_background": "light"
          }
        }
      ]
    },
    {
      "cell_type": "code",
      "source": [
        "# ------------------------------------------------------------------------------------------------------"
      ],
      "metadata": {
        "id": "G8FgrFihjEfM"
      },
      "execution_count": null,
      "outputs": []
    },
    {
      "cell_type": "code",
      "source": [
        "\"\"\" Dataset-03 \"\"\"\n",
        "\n",
        "df = pd.read_csv('/content/Dataset_3.csv')\n",
        "print(df)"
      ],
      "metadata": {
        "colab": {
          "base_uri": "https://localhost:8080/"
        },
        "id": "GSLZDBH6vCHw",
        "outputId": "02c84914-6864-4640-f93d-e0664ec6c680"
      },
      "execution_count": 55,
      "outputs": [
        {
          "output_type": "stream",
          "name": "stdout",
          "text": [
            "   attempts       name qualify  score\n",
            "0       1.0  Anastasia     yes   12.5\n",
            "1       NaN       Dima      no    9.0\n",
            "2       2.0  Katherine     yes   16.5\n",
            "3       3.0      James      no    NaN\n",
            "4       2.0      Emily      no    9.0\n",
            "5       NaN    Michael     yes   20.0\n",
            "6       1.0    Matthew     yes   14.5\n",
            "7       1.0      Laura      no    NaN\n",
            "8       2.0      Kevin      no    8.0\n",
            "9       1.0      Jonas     yes   19.0\n"
          ]
        }
      ]
    },
    {
      "cell_type": "code",
      "source": [
        "\"\"\" Question 01 \"\"\"\n",
        "\n",
        "# Replace the missing values with the max value of that column\n",
        "for col in df.columns:\n",
        "    df[col].fillna(df[col].max(), inplace=True)\n",
        "\n",
        "print(df)"
      ],
      "metadata": {
        "colab": {
          "base_uri": "https://localhost:8080/"
        },
        "id": "pKRU1ODdcGx-",
        "outputId": "64649a37-6a60-4d9f-fe6e-90754f9e75b6"
      },
      "execution_count": 56,
      "outputs": [
        {
          "output_type": "stream",
          "name": "stdout",
          "text": [
            "   attempts       name qualify  score\n",
            "0       1.0  Anastasia     yes   12.5\n",
            "1       3.0       Dima      no    9.0\n",
            "2       2.0  Katherine     yes   16.5\n",
            "3       3.0      James      no   20.0\n",
            "4       2.0      Emily      no    9.0\n",
            "5       3.0    Michael     yes   20.0\n",
            "6       1.0    Matthew     yes   14.5\n",
            "7       1.0      Laura      no   20.0\n",
            "8       2.0      Kevin      no    8.0\n",
            "9       1.0      Jonas     yes   19.0\n"
          ]
        }
      ]
    },
    {
      "cell_type": "code",
      "source": [
        "\"\"\" Question 02 \"\"\"\n",
        "\n",
        "# Select the rows where the number of attempts is less than 2 and score is greater than 15\n",
        "\n",
        "# selected_rows = df.query('attempts < 2 & score > 15')\n",
        "\n",
        "selected_rows = df[(df['attempts'] < 2) & (df['score'] > 15)]\n",
        "selected_rows"
      ],
      "metadata": {
        "colab": {
          "base_uri": "https://localhost:8080/",
          "height": 112
        },
        "id": "WswF23N9cmz6",
        "outputId": "26be5c79-4e54-4522-e5e7-4ea09cbd4d27"
      },
      "execution_count": 58,
      "outputs": [
        {
          "output_type": "execute_result",
          "data": {
            "text/plain": [
              "   attempts   name qualify  score\n",
              "7       1.0  Laura      no   20.0\n",
              "9       1.0  Jonas     yes   19.0"
            ],
            "text/html": [
              "\n",
              "  <div id=\"df-bb3cf1d2-52a1-4618-8b2f-c083952126bf\">\n",
              "    <div class=\"colab-df-container\">\n",
              "      <div>\n",
              "<style scoped>\n",
              "    .dataframe tbody tr th:only-of-type {\n",
              "        vertical-align: middle;\n",
              "    }\n",
              "\n",
              "    .dataframe tbody tr th {\n",
              "        vertical-align: top;\n",
              "    }\n",
              "\n",
              "    .dataframe thead th {\n",
              "        text-align: right;\n",
              "    }\n",
              "</style>\n",
              "<table border=\"1\" class=\"dataframe\">\n",
              "  <thead>\n",
              "    <tr style=\"text-align: right;\">\n",
              "      <th></th>\n",
              "      <th>attempts</th>\n",
              "      <th>name</th>\n",
              "      <th>qualify</th>\n",
              "      <th>score</th>\n",
              "    </tr>\n",
              "  </thead>\n",
              "  <tbody>\n",
              "    <tr>\n",
              "      <th>7</th>\n",
              "      <td>1.0</td>\n",
              "      <td>Laura</td>\n",
              "      <td>no</td>\n",
              "      <td>20.0</td>\n",
              "    </tr>\n",
              "    <tr>\n",
              "      <th>9</th>\n",
              "      <td>1.0</td>\n",
              "      <td>Jonas</td>\n",
              "      <td>yes</td>\n",
              "      <td>19.0</td>\n",
              "    </tr>\n",
              "  </tbody>\n",
              "</table>\n",
              "</div>\n",
              "      <button class=\"colab-df-convert\" onclick=\"convertToInteractive('df-bb3cf1d2-52a1-4618-8b2f-c083952126bf')\"\n",
              "              title=\"Convert this dataframe to an interactive table.\"\n",
              "              style=\"display:none;\">\n",
              "        \n",
              "  <svg xmlns=\"http://www.w3.org/2000/svg\" height=\"24px\"viewBox=\"0 0 24 24\"\n",
              "       width=\"24px\">\n",
              "    <path d=\"M0 0h24v24H0V0z\" fill=\"none\"/>\n",
              "    <path d=\"M18.56 5.44l.94 2.06.94-2.06 2.06-.94-2.06-.94-.94-2.06-.94 2.06-2.06.94zm-11 1L8.5 8.5l.94-2.06 2.06-.94-2.06-.94L8.5 2.5l-.94 2.06-2.06.94zm10 10l.94 2.06.94-2.06 2.06-.94-2.06-.94-.94-2.06-.94 2.06-2.06.94z\"/><path d=\"M17.41 7.96l-1.37-1.37c-.4-.4-.92-.59-1.43-.59-.52 0-1.04.2-1.43.59L10.3 9.45l-7.72 7.72c-.78.78-.78 2.05 0 2.83L4 21.41c.39.39.9.59 1.41.59.51 0 1.02-.2 1.41-.59l7.78-7.78 2.81-2.81c.8-.78.8-2.07 0-2.86zM5.41 20L4 18.59l7.72-7.72 1.47 1.35L5.41 20z\"/>\n",
              "  </svg>\n",
              "      </button>\n",
              "      \n",
              "  <style>\n",
              "    .colab-df-container {\n",
              "      display:flex;\n",
              "      flex-wrap:wrap;\n",
              "      gap: 12px;\n",
              "    }\n",
              "\n",
              "    .colab-df-convert {\n",
              "      background-color: #E8F0FE;\n",
              "      border: none;\n",
              "      border-radius: 50%;\n",
              "      cursor: pointer;\n",
              "      display: none;\n",
              "      fill: #1967D2;\n",
              "      height: 32px;\n",
              "      padding: 0 0 0 0;\n",
              "      width: 32px;\n",
              "    }\n",
              "\n",
              "    .colab-df-convert:hover {\n",
              "      background-color: #E2EBFA;\n",
              "      box-shadow: 0px 1px 2px rgba(60, 64, 67, 0.3), 0px 1px 3px 1px rgba(60, 64, 67, 0.15);\n",
              "      fill: #174EA6;\n",
              "    }\n",
              "\n",
              "    [theme=dark] .colab-df-convert {\n",
              "      background-color: #3B4455;\n",
              "      fill: #D2E3FC;\n",
              "    }\n",
              "\n",
              "    [theme=dark] .colab-df-convert:hover {\n",
              "      background-color: #434B5C;\n",
              "      box-shadow: 0px 1px 3px 1px rgba(0, 0, 0, 0.15);\n",
              "      filter: drop-shadow(0px 1px 2px rgba(0, 0, 0, 0.3));\n",
              "      fill: #FFFFFF;\n",
              "    }\n",
              "  </style>\n",
              "\n",
              "      <script>\n",
              "        const buttonEl =\n",
              "          document.querySelector('#df-bb3cf1d2-52a1-4618-8b2f-c083952126bf button.colab-df-convert');\n",
              "        buttonEl.style.display =\n",
              "          google.colab.kernel.accessAllowed ? 'block' : 'none';\n",
              "\n",
              "        async function convertToInteractive(key) {\n",
              "          const element = document.querySelector('#df-bb3cf1d2-52a1-4618-8b2f-c083952126bf');\n",
              "          const dataTable =\n",
              "            await google.colab.kernel.invokeFunction('convertToInteractive',\n",
              "                                                     [key], {});\n",
              "          if (!dataTable) return;\n",
              "\n",
              "          const docLinkHtml = 'Like what you see? Visit the ' +\n",
              "            '<a target=\"_blank\" href=https://colab.research.google.com/notebooks/data_table.ipynb>data table notebook</a>'\n",
              "            + ' to learn more about interactive tables.';\n",
              "          element.innerHTML = '';\n",
              "          dataTable['output_type'] = 'display_data';\n",
              "          await google.colab.output.renderOutput(dataTable, element);\n",
              "          const docLink = document.createElement('div');\n",
              "          docLink.innerHTML = docLinkHtml;\n",
              "          element.appendChild(docLink);\n",
              "        }\n",
              "      </script>\n",
              "    </div>\n",
              "  </div>\n",
              "  "
            ]
          },
          "metadata": {},
          "execution_count": 58
        }
      ]
    },
    {
      "cell_type": "code",
      "source": [
        "\"\"\" question 03 \"\"\"\n",
        "\n",
        "# Total score of those who have qualified\n",
        "qualified_score = df[df['qualify'] == 'yes']['score'].sum()\n",
        "qualified_score\n",
        "# Total score of those who have not qualified\n",
        "not_qualified_score = df[df['qualify'] == 'no']['score'].sum()\n",
        "not_qualified_score"
      ],
      "metadata": {
        "colab": {
          "base_uri": "https://localhost:8080/"
        },
        "id": "THNcJMLqzylF",
        "outputId": "17e400b6-a25c-4d52-947c-5a45324343b7"
      },
      "execution_count": 62,
      "outputs": [
        {
          "output_type": "execute_result",
          "data": {
            "text/plain": [
              "66.0"
            ]
          },
          "metadata": {},
          "execution_count": 62
        }
      ]
    },
    {
      "cell_type": "code",
      "source": [
        "\"\"\" Question 04 \"\"\"\n",
        "\n",
        "# Perform the min-max normalization for the attributes- attempt and score\n",
        "from sklearn.preprocessing import minmax_scale\n",
        "# Normalize the columns\n",
        "df[['attempts', 'score']] = minmax_scale(df[['attempts', 'score']])\n",
        "print(df)"
      ],
      "metadata": {
        "colab": {
          "base_uri": "https://localhost:8080/"
        },
        "id": "Oy0J7wb80y6Z",
        "outputId": "2019dd18-022c-41c5-fbae-9b6ec9caf54b"
      },
      "execution_count": 67,
      "outputs": [
        {
          "output_type": "stream",
          "name": "stdout",
          "text": [
            "   attempts       name qualify     score\n",
            "0       0.0  Anastasia     yes  0.375000\n",
            "1       1.0       Dima      no  0.083333\n",
            "2       0.5  Katherine     yes  0.708333\n",
            "3       1.0      James      no  1.000000\n",
            "4       0.5      Emily      no  0.083333\n",
            "5       1.0    Michael     yes  1.000000\n",
            "6       0.0    Matthew     yes  0.541667\n",
            "7       0.0      Laura      no  1.000000\n",
            "8       0.5      Kevin      no  0.000000\n",
            "9       0.0      Jonas     yes  0.916667\n"
          ]
        }
      ]
    },
    {
      "cell_type": "code",
      "source": [
        "\"\"\" Question 05 \"\"\"\n",
        "\n",
        "# Scatter Plot\n",
        "plt.scatter(df['attempts'], df['score'])\n",
        "\n",
        "# Add axis labels\n",
        "plt.xlabel('Attempts')\n",
        "plt.ylabel('Score')\n",
        "\n",
        "# Show plot\n",
        "plt.show()"
      ],
      "metadata": {
        "colab": {
          "base_uri": "https://localhost:8080/",
          "height": 279
        },
        "id": "9s3g1Hs71kSU",
        "outputId": "ec7e55c9-2bc4-4d76-8ec1-8a4328da3860"
      },
      "execution_count": 69,
      "outputs": [
        {
          "output_type": "display_data",
          "data": {
            "text/plain": [
              "<Figure size 432x288 with 1 Axes>"
            ],
            "image/png": "[encoded data removed]"
          },
          "metadata": {
            "needs_background": "light"
          }
        }
      ]
    },
    {
      "cell_type": "code",
      "source": [],
      "metadata": {
        "id": "57jY42mF2PEc"
      },
      "execution_count": null,
      "outputs": []
    }
  ]
}